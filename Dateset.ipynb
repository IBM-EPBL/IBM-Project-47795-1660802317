{
  "nbformat": 4,
  "nbformat_minor": 0,
  "metadata": {
    "colab": {
      "provenance": []
    },
    "kernelspec": {
      "name": "python3",
      "display_name": "Python 3"
    },
    "language_info": {
      "name": "python"
    }
  },
  "cells": [
    {
      "cell_type": "code",
      "execution_count": 1,
      "metadata": {
        "colab": {
          "base_uri": "https://localhost:8080/"
        },
        "id": "5lu-ZE2gsOCD",
        "outputId": "596028c6-62f3-4270-ebbd-3c15bd33815a"
      },
      "outputs": [
        {
          "output_type": "stream",
          "name": "stdout",
          "text": [
            "Drive already mounted at /content/drive; to attempt to forcibly remount, call drive.mount(\"/content/drive\", force_remount=True).\n"
          ]
        }
      ],
      "source": [
        "from google.colab import drive\n",
        "drive.mount('/content/drive')"
      ]
    },
    {
      "cell_type": "code",
      "source": [
        "!unzip '/content/drive/MyDrive/Digital Naturalist Dataset.zip' -d '/content/drive/MyDrive/Digital Naturalist Dataset/'"
      ],
      "metadata": {
        "colab": {
          "base_uri": "https://localhost:8080/"
        },
        "id": "Oq94-N4EuNcx",
        "outputId": "d702838c-9556-48d9-e23a-1f2d3f7547f3"
      },
      "execution_count": 3,
      "outputs": [
        {
          "output_type": "stream",
          "name": "stdout",
          "text": [
            "Archive:  /content/drive/MyDrive/Digital Naturalist Dataset.zip\n",
            "   creating: /content/drive/MyDrive/Digital Naturalist Dataset/Digital Naturalist Dataset/\n",
            "   creating: /content/drive/MyDrive/Digital Naturalist Dataset/Digital Naturalist Dataset/Bird/\n",
            "   creating: /content/drive/MyDrive/Digital Naturalist Dataset/Digital Naturalist Dataset/Bird/Great Indian Bustard Bird/\n",
            "  inflating: /content/drive/MyDrive/Digital Naturalist Dataset/Digital Naturalist Dataset/Bird/Great Indian Bustard Bird/download (1).jpg  \n",
            "  inflating: /content/drive/MyDrive/Digital Naturalist Dataset/Digital Naturalist Dataset/Bird/Great Indian Bustard Bird/download (10).jpg  \n",
            "  inflating: /content/drive/MyDrive/Digital Naturalist Dataset/Digital Naturalist Dataset/Bird/Great Indian Bustard Bird/download (11).jpg  \n",
            "  inflating: /content/drive/MyDrive/Digital Naturalist Dataset/Digital Naturalist Dataset/Bird/Great Indian Bustard Bird/download (2).jpg  \n",
            "  inflating: /content/drive/MyDrive/Digital Naturalist Dataset/Digital Naturalist Dataset/Bird/Great Indian Bustard Bird/download (3).jpg  \n",
            "  inflating: /content/drive/MyDrive/Digital Naturalist Dataset/Digital Naturalist Dataset/Bird/Great Indian Bustard Bird/download (4).jpg  \n",
            "  inflating: /content/drive/MyDrive/Digital Naturalist Dataset/Digital Naturalist Dataset/Bird/Great Indian Bustard Bird/download (5).jpg  \n",
            "  inflating: /content/drive/MyDrive/Digital Naturalist Dataset/Digital Naturalist Dataset/Bird/Great Indian Bustard Bird/download (6).jpg  \n",
            "  inflating: /content/drive/MyDrive/Digital Naturalist Dataset/Digital Naturalist Dataset/Bird/Great Indian Bustard Bird/download (7).jpg  \n",
            "  inflating: /content/drive/MyDrive/Digital Naturalist Dataset/Digital Naturalist Dataset/Bird/Great Indian Bustard Bird/download (8).jpg  \n",
            "  inflating: /content/drive/MyDrive/Digital Naturalist Dataset/Digital Naturalist Dataset/Bird/Great Indian Bustard Bird/download (9).jpg  \n",
            "  inflating: /content/drive/MyDrive/Digital Naturalist Dataset/Digital Naturalist Dataset/Bird/Great Indian Bustard Bird/download.jpg  \n",
            " extracting: /content/drive/MyDrive/Digital Naturalist Dataset/Digital Naturalist Dataset/Bird/Great Indian Bustard Bird/greatindianbustard-kRDC--621x414@LiveMint.webp  \n",
            "  inflating: /content/drive/MyDrive/Digital Naturalist Dataset/Digital Naturalist Dataset/Bird/Great Indian Bustard Bird/images (1).jpg  \n",
            "  inflating: /content/drive/MyDrive/Digital Naturalist Dataset/Digital Naturalist Dataset/Bird/Great Indian Bustard Bird/images (2).jpg  \n",
            "  inflating: /content/drive/MyDrive/Digital Naturalist Dataset/Digital Naturalist Dataset/Bird/Great Indian Bustard Bird/images (3).jpg  \n",
            "  inflating: /content/drive/MyDrive/Digital Naturalist Dataset/Digital Naturalist Dataset/Bird/Great Indian Bustard Bird/images (4).jpg  \n",
            "  inflating: /content/drive/MyDrive/Digital Naturalist Dataset/Digital Naturalist Dataset/Bird/Great Indian Bustard Bird/images (5).jpg  \n",
            "  inflating: /content/drive/MyDrive/Digital Naturalist Dataset/Digital Naturalist Dataset/Bird/Great Indian Bustard Bird/images (6).jpg  \n",
            "  inflating: /content/drive/MyDrive/Digital Naturalist Dataset/Digital Naturalist Dataset/Bird/Great Indian Bustard Bird/images (7).jpg  \n",
            "  inflating: /content/drive/MyDrive/Digital Naturalist Dataset/Digital Naturalist Dataset/Bird/Great Indian Bustard Bird/images (8).jpg  \n",
            "  inflating: /content/drive/MyDrive/Digital Naturalist Dataset/Digital Naturalist Dataset/Bird/Great Indian Bustard Bird/images.jpg  \n",
            "   creating: /content/drive/MyDrive/Digital Naturalist Dataset/Digital Naturalist Dataset/Bird/Spoon Billed Sandpiper Bird/\n",
            "  inflating: /content/drive/MyDrive/Digital Naturalist Dataset/Digital Naturalist Dataset/Bird/Spoon Billed Sandpiper Bird/download (1).jpg  \n",
            "  inflating: /content/drive/MyDrive/Digital Naturalist Dataset/Digital Naturalist Dataset/Bird/Spoon Billed Sandpiper Bird/download (12).jpg  \n",
            "  inflating: /content/drive/MyDrive/Digital Naturalist Dataset/Digital Naturalist Dataset/Bird/Spoon Billed Sandpiper Bird/download (2).jpg  \n",
            "  inflating: /content/drive/MyDrive/Digital Naturalist Dataset/Digital Naturalist Dataset/Bird/Spoon Billed Sandpiper Bird/download (3).jpg  \n",
            "  inflating: /content/drive/MyDrive/Digital Naturalist Dataset/Digital Naturalist Dataset/Bird/Spoon Billed Sandpiper Bird/download (4).jpg  \n",
            "  inflating: /content/drive/MyDrive/Digital Naturalist Dataset/Digital Naturalist Dataset/Bird/Spoon Billed Sandpiper Bird/download (5).jpg  \n",
            "  inflating: /content/drive/MyDrive/Digital Naturalist Dataset/Digital Naturalist Dataset/Bird/Spoon Billed Sandpiper Bird/download (6).jpg  \n",
            "  inflating: /content/drive/MyDrive/Digital Naturalist Dataset/Digital Naturalist Dataset/Bird/Spoon Billed Sandpiper Bird/download (7).jpg  \n",
            "  inflating: /content/drive/MyDrive/Digital Naturalist Dataset/Digital Naturalist Dataset/Bird/Spoon Billed Sandpiper Bird/download.jpg  \n",
            "  inflating: /content/drive/MyDrive/Digital Naturalist Dataset/Digital Naturalist Dataset/Bird/Spoon Billed Sandpiper Bird/images (1).jpg  \n",
            "  inflating: /content/drive/MyDrive/Digital Naturalist Dataset/Digital Naturalist Dataset/Bird/Spoon Billed Sandpiper Bird/images (10).jpg  \n",
            "  inflating: /content/drive/MyDrive/Digital Naturalist Dataset/Digital Naturalist Dataset/Bird/Spoon Billed Sandpiper Bird/images (11).jpg  \n",
            "  inflating: /content/drive/MyDrive/Digital Naturalist Dataset/Digital Naturalist Dataset/Bird/Spoon Billed Sandpiper Bird/images (2).jpg  \n",
            "  inflating: /content/drive/MyDrive/Digital Naturalist Dataset/Digital Naturalist Dataset/Bird/Spoon Billed Sandpiper Bird/images (3).jpg  \n",
            "  inflating: /content/drive/MyDrive/Digital Naturalist Dataset/Digital Naturalist Dataset/Bird/Spoon Billed Sandpiper Bird/images (4).jpg  \n",
            "  inflating: /content/drive/MyDrive/Digital Naturalist Dataset/Digital Naturalist Dataset/Bird/Spoon Billed Sandpiper Bird/images (5).jpg  \n",
            "  inflating: /content/drive/MyDrive/Digital Naturalist Dataset/Digital Naturalist Dataset/Bird/Spoon Billed Sandpiper Bird/images (6).jpg  \n",
            "  inflating: /content/drive/MyDrive/Digital Naturalist Dataset/Digital Naturalist Dataset/Bird/Spoon Billed Sandpiper Bird/images (7).jpg  \n",
            "  inflating: /content/drive/MyDrive/Digital Naturalist Dataset/Digital Naturalist Dataset/Bird/Spoon Billed Sandpiper Bird/images (8).jpg  \n",
            "  inflating: /content/drive/MyDrive/Digital Naturalist Dataset/Digital Naturalist Dataset/Bird/Spoon Billed Sandpiper Bird/images (9).jpg  \n",
            "  inflating: /content/drive/MyDrive/Digital Naturalist Dataset/Digital Naturalist Dataset/Bird/Spoon Billed Sandpiper Bird/images.jpg  \n",
            "   creating: /content/drive/MyDrive/Digital Naturalist Dataset/Digital Naturalist Dataset/Flower/\n",
            "   creating: /content/drive/MyDrive/Digital Naturalist Dataset/Digital Naturalist Dataset/Flower/Corpse Flower/\n",
            "  inflating: /content/drive/MyDrive/Digital Naturalist Dataset/Digital Naturalist Dataset/Flower/Corpse Flower/download (1).jpg  \n",
            "  inflating: /content/drive/MyDrive/Digital Naturalist Dataset/Digital Naturalist Dataset/Flower/Corpse Flower/download (11).jpg  \n",
            "  inflating: /content/drive/MyDrive/Digital Naturalist Dataset/Digital Naturalist Dataset/Flower/Corpse Flower/download (2).jpg  \n",
            "  inflating: /content/drive/MyDrive/Digital Naturalist Dataset/Digital Naturalist Dataset/Flower/Corpse Flower/download (3).jpg  \n",
            "  inflating: /content/drive/MyDrive/Digital Naturalist Dataset/Digital Naturalist Dataset/Flower/Corpse Flower/download (4).jpg  \n",
            "  inflating: /content/drive/MyDrive/Digital Naturalist Dataset/Digital Naturalist Dataset/Flower/Corpse Flower/download (5).jpg  \n",
            "  inflating: /content/drive/MyDrive/Digital Naturalist Dataset/Digital Naturalist Dataset/Flower/Corpse Flower/download.jpg  \n",
            "  inflating: /content/drive/MyDrive/Digital Naturalist Dataset/Digital Naturalist Dataset/Flower/Corpse Flower/images (1).jpg  \n",
            "  inflating: /content/drive/MyDrive/Digital Naturalist Dataset/Digital Naturalist Dataset/Flower/Corpse Flower/images (10).jpg  \n",
            "  inflating: /content/drive/MyDrive/Digital Naturalist Dataset/Digital Naturalist Dataset/Flower/Corpse Flower/images (11).jpg  \n",
            "  inflating: /content/drive/MyDrive/Digital Naturalist Dataset/Digital Naturalist Dataset/Flower/Corpse Flower/images (12).jpg  \n",
            "  inflating: /content/drive/MyDrive/Digital Naturalist Dataset/Digital Naturalist Dataset/Flower/Corpse Flower/images (13).jpg  \n",
            "  inflating: /content/drive/MyDrive/Digital Naturalist Dataset/Digital Naturalist Dataset/Flower/Corpse Flower/images (14).jpg  \n",
            "  inflating: /content/drive/MyDrive/Digital Naturalist Dataset/Digital Naturalist Dataset/Flower/Corpse Flower/images (15).jpg  \n",
            "  inflating: /content/drive/MyDrive/Digital Naturalist Dataset/Digital Naturalist Dataset/Flower/Corpse Flower/images (16).jpg  \n",
            " extracting: /content/drive/MyDrive/Digital Naturalist Dataset/Digital Naturalist Dataset/Flower/Corpse Flower/images (17).jpg  \n",
            "  inflating: /content/drive/MyDrive/Digital Naturalist Dataset/Digital Naturalist Dataset/Flower/Corpse Flower/images (2).jpg  \n",
            "  inflating: /content/drive/MyDrive/Digital Naturalist Dataset/Digital Naturalist Dataset/Flower/Corpse Flower/images (3).jpg  \n",
            "  inflating: /content/drive/MyDrive/Digital Naturalist Dataset/Digital Naturalist Dataset/Flower/Corpse Flower/images (4).jpg  \n",
            "  inflating: /content/drive/MyDrive/Digital Naturalist Dataset/Digital Naturalist Dataset/Flower/Corpse Flower/images (5).jpg  \n",
            "  inflating: /content/drive/MyDrive/Digital Naturalist Dataset/Digital Naturalist Dataset/Flower/Corpse Flower/images (6).jpg  \n",
            "  inflating: /content/drive/MyDrive/Digital Naturalist Dataset/Digital Naturalist Dataset/Flower/Corpse Flower/images (7).jpg  \n",
            "  inflating: /content/drive/MyDrive/Digital Naturalist Dataset/Digital Naturalist Dataset/Flower/Corpse Flower/images (8).jpg  \n",
            "  inflating: /content/drive/MyDrive/Digital Naturalist Dataset/Digital Naturalist Dataset/Flower/Corpse Flower/images (9).jpg  \n",
            " extracting: /content/drive/MyDrive/Digital Naturalist Dataset/Digital Naturalist Dataset/Flower/Corpse Flower/images.jpg  \n",
            "   creating: /content/drive/MyDrive/Digital Naturalist Dataset/Digital Naturalist Dataset/Flower/Lady Slipper Orchid Flower/\n",
            "  inflating: /content/drive/MyDrive/Digital Naturalist Dataset/Digital Naturalist Dataset/Flower/Lady Slipper Orchid Flower/download (1).jpg  \n",
            "  inflating: /content/drive/MyDrive/Digital Naturalist Dataset/Digital Naturalist Dataset/Flower/Lady Slipper Orchid Flower/download (10).jpg  \n",
            "  inflating: /content/drive/MyDrive/Digital Naturalist Dataset/Digital Naturalist Dataset/Flower/Lady Slipper Orchid Flower/download (2).jpg  \n",
            "  inflating: /content/drive/MyDrive/Digital Naturalist Dataset/Digital Naturalist Dataset/Flower/Lady Slipper Orchid Flower/download (3).jpg  \n",
            "  inflating: /content/drive/MyDrive/Digital Naturalist Dataset/Digital Naturalist Dataset/Flower/Lady Slipper Orchid Flower/download (4).jpg  \n",
            "  inflating: /content/drive/MyDrive/Digital Naturalist Dataset/Digital Naturalist Dataset/Flower/Lady Slipper Orchid Flower/download (5).jpg  \n",
            "  inflating: /content/drive/MyDrive/Digital Naturalist Dataset/Digital Naturalist Dataset/Flower/Lady Slipper Orchid Flower/download (6).jpg  \n",
            "  inflating: /content/drive/MyDrive/Digital Naturalist Dataset/Digital Naturalist Dataset/Flower/Lady Slipper Orchid Flower/download (7).jpg  \n",
            "  inflating: /content/drive/MyDrive/Digital Naturalist Dataset/Digital Naturalist Dataset/Flower/Lady Slipper Orchid Flower/download (8).jpg  \n",
            "  inflating: /content/drive/MyDrive/Digital Naturalist Dataset/Digital Naturalist Dataset/Flower/Lady Slipper Orchid Flower/download (9).jpg  \n",
            "  inflating: /content/drive/MyDrive/Digital Naturalist Dataset/Digital Naturalist Dataset/Flower/Lady Slipper Orchid Flower/download.jpg  \n",
            "  inflating: /content/drive/MyDrive/Digital Naturalist Dataset/Digital Naturalist Dataset/Flower/Lady Slipper Orchid Flower/images (1).jpg  \n",
            "  inflating: /content/drive/MyDrive/Digital Naturalist Dataset/Digital Naturalist Dataset/Flower/Lady Slipper Orchid Flower/images (10).jpg  \n",
            "  inflating: /content/drive/MyDrive/Digital Naturalist Dataset/Digital Naturalist Dataset/Flower/Lady Slipper Orchid Flower/images (11).jpg  \n",
            "  inflating: /content/drive/MyDrive/Digital Naturalist Dataset/Digital Naturalist Dataset/Flower/Lady Slipper Orchid Flower/images (12).jpg  \n",
            "  inflating: /content/drive/MyDrive/Digital Naturalist Dataset/Digital Naturalist Dataset/Flower/Lady Slipper Orchid Flower/images (2).jpg  \n",
            "  inflating: /content/drive/MyDrive/Digital Naturalist Dataset/Digital Naturalist Dataset/Flower/Lady Slipper Orchid Flower/images (3).jpg  \n",
            "  inflating: /content/drive/MyDrive/Digital Naturalist Dataset/Digital Naturalist Dataset/Flower/Lady Slipper Orchid Flower/images (4).jpg  \n",
            "  inflating: /content/drive/MyDrive/Digital Naturalist Dataset/Digital Naturalist Dataset/Flower/Lady Slipper Orchid Flower/images (5).jpg  \n",
            "  inflating: /content/drive/MyDrive/Digital Naturalist Dataset/Digital Naturalist Dataset/Flower/Lady Slipper Orchid Flower/images (6).jpg  \n",
            "  inflating: /content/drive/MyDrive/Digital Naturalist Dataset/Digital Naturalist Dataset/Flower/Lady Slipper Orchid Flower/images (7).jpg  \n",
            "  inflating: /content/drive/MyDrive/Digital Naturalist Dataset/Digital Naturalist Dataset/Flower/Lady Slipper Orchid Flower/images (8).jpg  \n",
            "  inflating: /content/drive/MyDrive/Digital Naturalist Dataset/Digital Naturalist Dataset/Flower/Lady Slipper Orchid Flower/images (9).jpg  \n",
            "  inflating: /content/drive/MyDrive/Digital Naturalist Dataset/Digital Naturalist Dataset/Flower/Lady Slipper Orchid Flower/images.jpg  \n",
            "   creating: /content/drive/MyDrive/Digital Naturalist Dataset/Digital Naturalist Dataset/Mammal/\n",
            "   creating: /content/drive/MyDrive/Digital Naturalist Dataset/Digital Naturalist Dataset/Mammal/Pangolin Mammal/\n",
            "  inflating: /content/drive/MyDrive/Digital Naturalist Dataset/Digital Naturalist Dataset/Mammal/Pangolin Mammal/download (1).jpg  \n",
            "  inflating: /content/drive/MyDrive/Digital Naturalist Dataset/Digital Naturalist Dataset/Mammal/Pangolin Mammal/download (2).jpg  \n",
            "  inflating: /content/drive/MyDrive/Digital Naturalist Dataset/Digital Naturalist Dataset/Mammal/Pangolin Mammal/download (3).jpg  \n",
            "  inflating: /content/drive/MyDrive/Digital Naturalist Dataset/Digital Naturalist Dataset/Mammal/Pangolin Mammal/download (4).jpg  \n",
            " extracting: /content/drive/MyDrive/Digital Naturalist Dataset/Digital Naturalist Dataset/Mammal/Pangolin Mammal/download (5).jpg  \n",
            "  inflating: /content/drive/MyDrive/Digital Naturalist Dataset/Digital Naturalist Dataset/Mammal/Pangolin Mammal/download (6).jpg  \n",
            "  inflating: /content/drive/MyDrive/Digital Naturalist Dataset/Digital Naturalist Dataset/Mammal/Pangolin Mammal/download (8).jpg  \n",
            "  inflating: /content/drive/MyDrive/Digital Naturalist Dataset/Digital Naturalist Dataset/Mammal/Pangolin Mammal/download.jpg  \n",
            "  inflating: /content/drive/MyDrive/Digital Naturalist Dataset/Digital Naturalist Dataset/Mammal/Pangolin Mammal/images (1).jpg  \n",
            "  inflating: /content/drive/MyDrive/Digital Naturalist Dataset/Digital Naturalist Dataset/Mammal/Pangolin Mammal/images (10).jpg  \n",
            "  inflating: /content/drive/MyDrive/Digital Naturalist Dataset/Digital Naturalist Dataset/Mammal/Pangolin Mammal/images (11).jpg  \n",
            "  inflating: /content/drive/MyDrive/Digital Naturalist Dataset/Digital Naturalist Dataset/Mammal/Pangolin Mammal/images (12).jpg  \n",
            "  inflating: /content/drive/MyDrive/Digital Naturalist Dataset/Digital Naturalist Dataset/Mammal/Pangolin Mammal/images (13).jpg  \n",
            "  inflating: /content/drive/MyDrive/Digital Naturalist Dataset/Digital Naturalist Dataset/Mammal/Pangolin Mammal/images (14).jpg  \n",
            "  inflating: /content/drive/MyDrive/Digital Naturalist Dataset/Digital Naturalist Dataset/Mammal/Pangolin Mammal/images (15).jpg  \n",
            "  inflating: /content/drive/MyDrive/Digital Naturalist Dataset/Digital Naturalist Dataset/Mammal/Pangolin Mammal/images (16).jpg  \n",
            "  inflating: /content/drive/MyDrive/Digital Naturalist Dataset/Digital Naturalist Dataset/Mammal/Pangolin Mammal/images (2).jpg  \n",
            "  inflating: /content/drive/MyDrive/Digital Naturalist Dataset/Digital Naturalist Dataset/Mammal/Pangolin Mammal/images (3).jpg  \n",
            "  inflating: /content/drive/MyDrive/Digital Naturalist Dataset/Digital Naturalist Dataset/Mammal/Pangolin Mammal/images (4).jpg  \n",
            "  inflating: /content/drive/MyDrive/Digital Naturalist Dataset/Digital Naturalist Dataset/Mammal/Pangolin Mammal/images (5).jpg  \n",
            "  inflating: /content/drive/MyDrive/Digital Naturalist Dataset/Digital Naturalist Dataset/Mammal/Pangolin Mammal/images (6).jpg  \n",
            "  inflating: /content/drive/MyDrive/Digital Naturalist Dataset/Digital Naturalist Dataset/Mammal/Pangolin Mammal/images (7).jpg  \n",
            "  inflating: /content/drive/MyDrive/Digital Naturalist Dataset/Digital Naturalist Dataset/Mammal/Pangolin Mammal/images (8).jpg  \n",
            "  inflating: /content/drive/MyDrive/Digital Naturalist Dataset/Digital Naturalist Dataset/Mammal/Pangolin Mammal/images (9).jpg  \n",
            "  inflating: /content/drive/MyDrive/Digital Naturalist Dataset/Digital Naturalist Dataset/Mammal/Pangolin Mammal/images.jpg  \n",
            "   creating: /content/drive/MyDrive/Digital Naturalist Dataset/Digital Naturalist Dataset/Mammal/Senenca White Deer Mammal/\n",
            "  inflating: /content/drive/MyDrive/Digital Naturalist Dataset/Digital Naturalist Dataset/Mammal/Senenca White Deer Mammal/download (1).jpg  \n",
            "  inflating: /content/drive/MyDrive/Digital Naturalist Dataset/Digital Naturalist Dataset/Mammal/Senenca White Deer Mammal/download (2).jpg  \n",
            "  inflating: /content/drive/MyDrive/Digital Naturalist Dataset/Digital Naturalist Dataset/Mammal/Senenca White Deer Mammal/download (3).jpg  \n",
            "  inflating: /content/drive/MyDrive/Digital Naturalist Dataset/Digital Naturalist Dataset/Mammal/Senenca White Deer Mammal/download (7).jpg  \n",
            "  inflating: /content/drive/MyDrive/Digital Naturalist Dataset/Digital Naturalist Dataset/Mammal/Senenca White Deer Mammal/download.jpg  \n",
            "  inflating: /content/drive/MyDrive/Digital Naturalist Dataset/Digital Naturalist Dataset/Mammal/Senenca White Deer Mammal/images (1).jpg  \n",
            "  inflating: /content/drive/MyDrive/Digital Naturalist Dataset/Digital Naturalist Dataset/Mammal/Senenca White Deer Mammal/images (10).jpg  \n",
            "  inflating: /content/drive/MyDrive/Digital Naturalist Dataset/Digital Naturalist Dataset/Mammal/Senenca White Deer Mammal/images (11).jpg  \n",
            "  inflating: /content/drive/MyDrive/Digital Naturalist Dataset/Digital Naturalist Dataset/Mammal/Senenca White Deer Mammal/images (12).jpg  \n",
            "  inflating: /content/drive/MyDrive/Digital Naturalist Dataset/Digital Naturalist Dataset/Mammal/Senenca White Deer Mammal/images (13).jpg  \n",
            "  inflating: /content/drive/MyDrive/Digital Naturalist Dataset/Digital Naturalist Dataset/Mammal/Senenca White Deer Mammal/images (14).jpg  \n",
            "  inflating: /content/drive/MyDrive/Digital Naturalist Dataset/Digital Naturalist Dataset/Mammal/Senenca White Deer Mammal/images (15).jpg  \n",
            "  inflating: /content/drive/MyDrive/Digital Naturalist Dataset/Digital Naturalist Dataset/Mammal/Senenca White Deer Mammal/images (16).jpg  \n",
            "  inflating: /content/drive/MyDrive/Digital Naturalist Dataset/Digital Naturalist Dataset/Mammal/Senenca White Deer Mammal/images (2).jpg  \n",
            "  inflating: /content/drive/MyDrive/Digital Naturalist Dataset/Digital Naturalist Dataset/Mammal/Senenca White Deer Mammal/images (3).jpg  \n",
            "  inflating: /content/drive/MyDrive/Digital Naturalist Dataset/Digital Naturalist Dataset/Mammal/Senenca White Deer Mammal/images (4).jpg  \n",
            "  inflating: /content/drive/MyDrive/Digital Naturalist Dataset/Digital Naturalist Dataset/Mammal/Senenca White Deer Mammal/images (5).jpg  \n",
            "  inflating: /content/drive/MyDrive/Digital Naturalist Dataset/Digital Naturalist Dataset/Mammal/Senenca White Deer Mammal/images (6).jpg  \n",
            "  inflating: /content/drive/MyDrive/Digital Naturalist Dataset/Digital Naturalist Dataset/Mammal/Senenca White Deer Mammal/images (7).jpg  \n",
            "  inflating: /content/drive/MyDrive/Digital Naturalist Dataset/Digital Naturalist Dataset/Mammal/Senenca White Deer Mammal/images (8).jpg  \n",
            "  inflating: /content/drive/MyDrive/Digital Naturalist Dataset/Digital Naturalist Dataset/Mammal/Senenca White Deer Mammal/images (9).jpg  \n",
            "  inflating: /content/drive/MyDrive/Digital Naturalist Dataset/Digital Naturalist Dataset/Mammal/Senenca White Deer Mammal/images.jpg  \n"
          ]
        }
      ]
    },
    {
      "cell_type": "code",
      "source": [],
      "metadata": {
        "id": "0dFKfw77uV9z"
      },
      "execution_count": null,
      "outputs": []
    }
  ]
}