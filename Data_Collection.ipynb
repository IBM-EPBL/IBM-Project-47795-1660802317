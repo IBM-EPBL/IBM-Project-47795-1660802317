{
  "nbformat": 4,
  "nbformat_minor": 0,
  "metadata": {
    "colab": {
      "provenance": []
    },
    "kernelspec": {
      "name": "python3",
      "display_name": "Python 3"
    },
    "language_info": {
      "name": "python"
    }
  },
  "cells": [
    {
      "cell_type": "markdown",
      "source": [
        "**Augmenting the data**"
      ],
      "metadata": {
        "id": "lOLmmWAiF_Oz"
      }
    },
    {
      "cell_type": "code",
      "execution_count": null,
      "metadata": {
        "id": "_uBJurpjFjzW"
      },
      "outputs": [],
      "source": [
        "from keras.preprocessing.image import ImageDataGenerator\n",
        "import cv2\n",
        "from os import listdr\n",
        "import time\n",
        "def hes_string(sec_elapsed):\n",
        "    h=int(sec_elapsed/(60*60))\n",
        "    m=int((sec_elapsed % (60*60))/60)\n",
        "    s=sec_elapsed%60\n",
        "    return f\"{h}:{m}:{round(s,l)}\"\n",
        "def augment_data(file_dir,n_generated_samples,save_to_dir):\n",
        "    data_gen=ImageDataGenerator(rotation_range=30,width_shift_range=0.1,height_shift_range=0.15,shear_range=0.25,zoom_range=0.2,horizontal_flip=True,vertical_flip=False,fill_mode='nearest',brightness_range=(0.5,1.2))\n",
        "\n",
        "for filename in listdir(file_dir):\n",
        "   image = cv2.imread(file_dir + '/' + filename)\n",
        "   image=image.reshape((1,)+image.shape)\n",
        "   save_prefix = 'aug_' + filename [:-4]\n",
        "   i=0\n",
        "   for batch in data_gen.flow(x=image, batch_size=1, save_to_dir=save_to_dir, save_prefix=save_prefix, save_format='jpg'):\n",
        "      i += 1\n",
        "      if i > n_generated_samples:\n",
        "          break\n",
        "start_time = time.time()\n",
        "augmented_data_path = 'D:/TSB Projects/Digital Naturalist/augmented data/'\n",
        "augment_data(file_dir='D:/TSB Projects/Digital Naturalist/Digital Naturalist Dataset/Bird/Great Indian Bustard Bird', n_generated_samples=8, save_to_dir=augmented_data_path+'Bird/GIB_AUG\") # augment data for the examples with label equal to GIB in Birds augment_data(file_dir='D:/TSB Projects/Digital Naturalist/Digital Naturalist Dataset/Bird/Spoon Billed Sandpiper Bird', n_generated_samples=8, save_to_dir=augmented_data_path+'Bird/SPS_AUG\")\n",
        "augment_data(file_dir=\"D:/TSB Projects/Digital Naturalist/Digital Naturalist Dataset/Flower/Corpse Flower', n_generated_samples=8, save_to_dir=augmented_data_path+'Flower/Corpse_AUG')\n",
        "augment_data(file_dir='D:/TSB Projects/Digital Naturalist/Digital Naturalist Dataset/Flower/Lady Slipper Orchid Flower', n_generated_samples=8, save_to_dir=augmented_data_path+' Flower/LS_Orchid_AUG\")\n",
        "augment_data(file_dir='D:/TSB Projects/Digital Naturalist/Digital Naturalist Dataset/Mammal/Pangolin Mammal', n_generated_samples=8, save_to_dir=augmented_data_path+'Mammal/Pangolin_AUG\") # augment data for the examples with label equal to GIB in Birds\n",
        "augment_data(file_dir='D:/TSB Projects/Digital Naturalist/Digital Naturalist Dataset/Mammal/Senenca White Deer Mammal', n_generated_samples=8, save_to_dir=augmented_data_path+'Mammal/SW_Deer_AUG\")\n",
        "end_time = time.time()\n",
        "execution_time = (end_time - start_time) print(f\"Elapsed time: {hms_string(execution_time)}\")"
      ]
    },
    {
      "cell_type": "markdown",
      "source": [
        "**Data Augmentation Structure Creation**"
      ],
      "metadata": {
        "id": "5R6hojsPF3cY"
      }
    },
    {
      "cell_type": "code",
      "source": [
        "tf.keras.preprocessing.image_dataset_from_directory(\n",
        "    directory,\n",
        "    labels=\"inferred\",\n",
        "    label_mode=\"int\",\n",
        "    class_names=None,\n",
        "    color_mode=\"rgb\",\n",
        "    batch_size=32,\n",
        "    image_size=(256, 256),\n",
        "    shuffle=True,\n",
        "    seed=None,\n",
        "    validation_split=None,\n",
        "    subset=None,\n",
        "    interpolation=\"bilinear\",\n",
        "    follow_links=False,\n",
        "    crop_to_aspect_ratio=False,\n",
        "    **kwargs\n",
        ")\n",
        "tf.keras.preprocessing.image.load_img(\n",
        "    path, grayscale=False, color_mode=\"rgb\", target_size=None, interpolation=\"nearest\"\n",
        ")\n",
        "image = tf.keras.preprocessing.image.load_img(image_path)\n",
        "input_arr = tf.keras.preprocessing.image.img_to_array(image)\n",
        "input_arr = np.array([input_arr])\n",
        "predictions = model.predict(input_arr)\n",
        "tf.keras.preprocessing.image.img_to_array(img, data_format=None, dtype=None)\n",
        "from PIL import Image\n",
        "img_data = np.random.random(size=(100, 100, 3))\n",
        "img = tf.keras.preprocessing.image.array_to_img(img_data)\n",
        "array = tf.keras.preprocessing.image.img_to_array(img)"
      ],
      "metadata": {
        "id": "y214937YF1Zu"
      },
      "execution_count": null,
      "outputs": []
    },
    {
      "cell_type": "markdown",
      "source": [],
      "metadata": {
        "id": "vEQ-YwZ3GH8X"
      }
    },
    {
      "cell_type": "code",
      "source": [],
      "metadata": {
        "id": "8rrQMy5RGHZ0"
      },
      "execution_count": null,
      "outputs": []
    }
  ]
}