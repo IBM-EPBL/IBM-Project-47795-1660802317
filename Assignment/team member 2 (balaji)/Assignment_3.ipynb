{
  "nbformat": 4,
  "nbformat_minor": 0,
  "metadata": {
    "colab": {
      "provenance": []
    },
    "kernelspec": {
      "name": "python3",
      "display_name": "Python 3"
    },
    "language_info": {
      "name": "python"
    }
  },
  "cells": [
    {
      "cell_type": "code",
      "execution_count": 46,
      "metadata": {
        "id": "aEeaBrNkIly7"
      },
      "outputs": [],
      "source": [
        "from tensorflow.keras.models import Sequential\n",
        "from tensorflow.keras.layers import Convolution2D,MaxPooling2D,Flatten,Dense\n",
        "from tensorflow.keras.preprocessing.image import ImageDataGenerator as idm\n",
        "from tensorflow.keras.models import load_model\n",
        "from tensorflow.keras.preprocessing import image\n",
        "import numpy as np\n",
        "import warnings\n",
        "#Supressing warnings\n",
        "warnings.filterwarnings('ignore')"
      ]
    },
    {
      "cell_type": "code",
      "source": [
        "# Creating augmentation on training variable\n",
        "train_flowers=idm(rescale=1./255,zoom_range=0.2,horizontal_flip=True)\n",
        "\n",
        "# Passing training data to train variable\n",
        "Xtrain = train_flowers.flow_from_directory('/content/drive/MyDrive/ibm/Flowers-Dataset/flowers',target_size=(76,76),class_mode='categorical',batch_size=100)"
      ],
      "metadata": {
        "colab": {
          "base_uri": "https://localhost:8080/"
        },
        "id": "TGmN4ubFKHkE",
        "outputId": "ea62b3cf-c87d-4a6d-9d2c-18bb90d59603"
      },
      "execution_count": 42,
      "outputs": [
        {
          "output_type": "stream",
          "name": "stdout",
          "text": [
            "Found 4317 images belonging to 5 classes.\n"
          ]
        }
      ]
    },
    {
      "cell_type": "code",
      "source": [
        "\n",
        "# Creating augmentation on testing variable\n",
        "test_flowers=idm(rescale=1./255)\n",
        "\n",
        "# Passing testing data to test variable\n",
        "Xtest = test_flowers.flow_from_directory('/content/drive/MyDrive/ibm/Flowers-Dataset/flowers',target_size=(76,76),class_mode='categorical',batch_size=100)\n",
        "\n"
      ],
      "metadata": {
        "colab": {
          "base_uri": "https://localhost:8080/"
        },
        "id": "X2VKGUSVhyTF",
        "outputId": "b06b482a-7814-4a09-b5e3-6cce2c78e6f4"
      },
      "execution_count": 18,
      "outputs": [
        {
          "output_type": "stream",
          "name": "stdout",
          "text": [
            "Found 4317 images belonging to 5 classes.\n"
          ]
        }
      ]
    },
    {
      "cell_type": "code",
      "source": [
        "Flower_model = Sequential()\n",
        "Flower_model.add(Convolution2D(32,(3,3),activation='relu',input_shape=(76,76,3)))\n",
        "Flower_model.add(MaxPooling2D(pool_size=(2,2)))\n",
        "Flower_model.add(Flatten())\n",
        "Flower_model.add(Dense(300,activation='relu'))\n",
        "Flower_model.add(Dense(150,activation='relu'))\n",
        "Flower_model.add(Dense(5,activation='softmax'))"
      ],
      "metadata": {
        "id": "R8dyxFf4iEcf"
      },
      "execution_count": 43,
      "outputs": []
    },
    {
      "cell_type": "code",
      "source": [
        "Flower_model.compile(optimizer='adam',loss='categorical_crossentropy',metrics=['accuracy'])"
      ],
      "metadata": {
        "id": "TBqoryrsiH0x"
      },
      "execution_count": 44,
      "outputs": []
    },
    {
      "cell_type": "code",
      "source": [
        "Flower_model.fit_generator(Xtrain,steps_per_epoch= len (Xtrain),epochs= 10,validation_data=Xtest,validation_steps= len (Xtest))"
      ],
      "metadata": {
        "colab": {
          "base_uri": "https://localhost:8080/"
        },
        "id": "fF1Dd6c4iQAH",
        "outputId": "e3f09209-baff-478c-c371-4574fe2b5c8e"
      },
      "execution_count": 45,
      "outputs": [
        {
          "output_type": "stream",
          "name": "stdout",
          "text": [
            "Epoch 1/10\n",
            "44/44 [==============================] - 71s 2s/step - loss: 1.5202 - accuracy: 0.4109 - val_loss: 1.1428 - val_accuracy: 0.5258\n",
            "Epoch 2/10\n",
            "44/44 [==============================] - 71s 2s/step - loss: 1.0842 - accuracy: 0.5698 - val_loss: 1.1264 - val_accuracy: 0.5631\n",
            "Epoch 3/10\n",
            "44/44 [==============================] - 69s 2s/step - loss: 0.9894 - accuracy: 0.6176 - val_loss: 0.9964 - val_accuracy: 0.6189\n",
            "Epoch 4/10\n",
            "44/44 [==============================] - 69s 2s/step - loss: 0.9397 - accuracy: 0.6305 - val_loss: 0.8458 - val_accuracy: 0.6780\n",
            "Epoch 5/10\n",
            "44/44 [==============================] - 70s 2s/step - loss: 0.8708 - accuracy: 0.6669 - val_loss: 0.9011 - val_accuracy: 0.6602\n",
            "Epoch 6/10\n",
            "44/44 [==============================] - 69s 2s/step - loss: 0.8012 - accuracy: 0.6915 - val_loss: 0.8604 - val_accuracy: 0.6801\n",
            "Epoch 7/10\n",
            "44/44 [==============================] - 68s 2s/step - loss: 0.7484 - accuracy: 0.7107 - val_loss: 0.7811 - val_accuracy: 0.7040\n",
            "Epoch 8/10\n",
            "44/44 [==============================] - 70s 2s/step - loss: 0.7388 - accuracy: 0.7243 - val_loss: 0.7416 - val_accuracy: 0.7153\n",
            "Epoch 9/10\n",
            "44/44 [==============================] - 70s 2s/step - loss: 0.6922 - accuracy: 0.7369 - val_loss: 0.6320 - val_accuracy: 0.7563\n",
            "Epoch 10/10\n",
            "44/44 [==============================] - 69s 2s/step - loss: 0.6583 - accuracy: 0.7545 - val_loss: 0.6764 - val_accuracy: 0.7512\n"
          ]
        },
        {
          "output_type": "execute_result",
          "data": {
            "text/plain": [
              "<keras.callbacks.History at 0x7f0675575390>"
            ]
          },
          "metadata": {},
          "execution_count": 45
        }
      ]
    },
    {
      "cell_type": "code",
      "source": [
        "Flower_model.save('flowers.h5')"
      ],
      "metadata": {
        "id": "CLIjEas2jWIv"
      },
      "execution_count": 30,
      "outputs": []
    },
    {
      "cell_type": "code",
      "source": [
        "test_img2=image.load_img('/content/drive/MyDrive/ibm/Flowers-Dataset/flowers/rose/102501987_3cdb8e5394_n.jpg',target_size=(76,76))\n",
        "test_img2"
      ],
      "metadata": {
        "colab": {
          "base_uri": "https://localhost:8080/",
          "height": 93
        },
        "id": "oFnu_R6vxqiL",
        "outputId": "d4567a08-2d44-4a3b-f049-aebf5a15e52f"
      },
      "execution_count": 53,
      "outputs": [
        {
          "output_type": "execute_result",
          "data": {
            "text/plain": [
              "<PIL.Image.Image image mode=RGB size=76x76 at 0x7F067533AC90>"
            ],
            "image/png": "[encoded data removed]"
          },
          "metadata": {},
          "execution_count": 53
        }
      ]
    },
    {
      "cell_type": "code",
      "source": [
        "x=image.img_to_array(test_img2)\n",
        "x=np.expand_dims(x,axis=0)\n",
        "predicted=np.argmax(Flower_model.predict(x))\n",
        "Prediction_category[predicted]"
      ],
      "metadata": {
        "colab": {
          "base_uri": "https://localhost:8080/",
          "height": 53
        },
        "id": "_qGcyobsx4Ul",
        "outputId": "c6b237d0-60dd-4395-86c6-1f80d87d2e85"
      },
      "execution_count": 54,
      "outputs": [
        {
          "output_type": "stream",
          "name": "stdout",
          "text": [
            "1/1 [==============================] - 0s 33ms/step\n"
          ]
        },
        {
          "output_type": "execute_result",
          "data": {
            "text/plain": [
              "'rose'"
            ],
            "application/vnd.google.colaboratory.intrinsic+json": {
              "type": "string"
            }
          },
          "metadata": {},
          "execution_count": 54
        }
      ]
    }
  ]
}