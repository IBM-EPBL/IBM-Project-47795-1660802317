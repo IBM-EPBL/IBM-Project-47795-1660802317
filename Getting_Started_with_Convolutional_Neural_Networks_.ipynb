{
  "nbformat": 4,
  "nbformat_minor": 0,
  "metadata": {
    "colab": {
      "provenance": []
    },
    "kernelspec": {
      "name": "python3",
      "display_name": "Python 3"
    },
    "language_info": {
      "name": "python"
    }
  },
  "cells": [
    {
      "cell_type": "markdown",
      "source": [
        "**Start**"
      ],
      "metadata": {
        "id": "2oqTMlzcHsYn"
      }
    },
    {
      "cell_type": "code",
      "execution_count": null,
      "metadata": {
        "id": "SbcQYMlNHmrZ"
      },
      "outputs": [],
      "source": [
        "# M O D E L    B U I L D I N G\n",
        "early_stop_loss = EarlyStopping(monitor='loss', patience=3, verbose=1)\n",
        "early_stop_val_acc = EarlyStopping(monitor='val_accuracy', patience=3, verbose=1)\n",
        "model_callbacks=[early_stop_loss, early_stop_val_acc]"
      ]
    },
    {
      "cell_type": "markdown",
      "source": [
        "**Building_Model**"
      ],
      "metadata": {
        "id": "PhxCLdKhHzN4"
      }
    },
    {
      "cell_type": "code",
      "source": [
        "#Building a model based on the above defined function\n",
        "model=load_CNN(6) #Number of Columns/Outputs\n",
        "model.compile(loss='categorical_crossontropy',optimizer=Adam(lr=0.001),metrics=['accuracy'])\n",
        "model.summary #to print model summary\n",
        "weights=model.get_weights() #to get the weighs from model\n",
        "\n",
        "#some arrays to store the result of each model\n",
        "histories_acc=[]\n",
        "histories_val_acC=[]\n",
        "histories_loss=[]\n",
        "histories_val_loss=[]\n",
        "model.set_weights(weights)\n",
        "h=model.fit(X_train, y_train,\n",
        "            batch_size=16,\n",
        "            epochs=7,\n",
        "            verbose=l,\n",
        "            callbacks=[early_stop_loss],\n",
        "            shuffle=True,\n",
        "            validat1on_data=(X_test, y_test))\n",
        "model.summary()#to print model summary"
      ],
      "metadata": {
        "id": "udaXiCwxHzj8"
      },
      "execution_count": null,
      "outputs": []
    },
    {
      "cell_type": "markdown",
      "source": [
        "**Add_Layers**"
      ],
      "metadata": {
        "id": "XFwbpE5pMAgm"
      }
    },
    {
      "cell_type": "code",
      "source": [
        "\"\"\"This function defines the cnn model structure and configures the layers\"\"\"\n",
        "def load_CNN(output_size):\n",
        "    \n",
        "    K.clear_session()\n",
        "    model = Sequential()\n",
        "    model.add(Dropout(0.4,input_shape=(224, 224, 3)))\n",
        "    \n",
        "    model.add(Conv2D(256, (5, 5),input_shape=(224, 224, 3),activation='relu'))\n",
        "    model.add(MaxPool2D(pool_size=(2, 2)))\n",
        "    #model.add(BatchNormalization())\n",
        "\n",
        "    model.add(Conv2D(128, (3, 3), activation='relu'))\n",
        "    model.add(MaxPool2D(pool_size=(2, 2)))\n",
        "    #model.add(BatchNormalization())\n",
        "\n",
        "    model.add(Conv2D(64, (3, 3), activation='relu'))\n",
        "    model.add(MaxPool2D(pool_size=(2, 2)))\n",
        "    #model.add(BatchNormalization())\n",
        "\n",
        "    model.add(Flatten())\n",
        "    model.add(Dense(512, activation='relu'))\n",
        "    model.add(Dropout(0.3))\n",
        "    model.add(Dense(256, activation='relu'))\n",
        "    model.add(Dropout(0.3))\n",
        "    model.add(Dense(128, activation='relu'))\n",
        "    model.add(Dropout(0.3))\n",
        "\n",
        "    model.add(Dense(output_size, activation='softmax'))\n",
        "    \n",
        "    return model"
      ],
      "metadata": {
        "id": "gABMa0_2H3kg"
      },
      "execution_count": null,
      "outputs": []
    }
  ]
}