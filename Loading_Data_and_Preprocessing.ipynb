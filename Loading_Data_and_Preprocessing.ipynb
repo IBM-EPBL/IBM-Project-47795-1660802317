{
  "nbformat": 4,
  "nbformat_minor": 0,
  "metadata": {
    "colab": {
      "provenance": []
    },
    "kernelspec": {
      "name": "python3",
      "display_name": "Python 3"
    },
    "language_info": {
      "name": "python"
    }
  },
  "cells": [
    {
      "cell_type": "markdown",
      "source": [
        "**importing the libraries**"
      ],
      "metadata": {
        "id": "vF-BcwXLHe09"
      }
    },
    {
      "cell_type": "code",
      "source": [
        "import numpy as  np \n",
        "\n",
        "import tensorflow as tf \n",
        "import keras \n",
        "import keras.backend as k\n",
        "\n",
        "from keras.optimizers import SGD,Adam,Adagrad,RMSprop \n",
        "from keras.application import * \n",
        "from keras.preprocessing import * \n",
        "from keras.preprocessing.image import  ImageDataGenerator,array_to_img,img_to_array,load_img \n",
        "from keras.callbacks import EarlyStopping, ModelCheckpoint \n",
        "from keras.models import Sequential \n",
        "from keras.layers import Dense,Conv2D, MaxPool2D, Flatten, Activation, BatchNormalization,Dropout \n",
        "from keras.utils.np_utils import to_categorical \n",
        "from sklearn.model_selection import train_test_split \n",
        "\n",
        "import matplotlib.pyplot as plt \n",
        "\n",
        "import glob \n",
        "from PIL import Image \n",
        "import os \n",
        "from os import listdir"
      ],
      "metadata": {
        "id": "Ma5DtQN6HW0Y"
      },
      "execution_count": null,
      "outputs": []
    },
    {
      "cell_type": "markdown",
      "source": [
        "**Make A List Of Paths To All Folders Where You Have**"
      ],
      "metadata": {
        "id": "7JfBZwaEHFrh"
      }
    },
    {
      "cell_type": "code",
      "source": [
        "dirName = 'D:/TSB Projects/Digital Naturalist/augmented data'\n",
        "folders = listdir(dirName)\n",
        "\n",
        "def getListOfFiles(dirName):\n",
        "    listOfFile = os.listdir(dirName)\n",
        "    allFiles = list()\n",
        "    for fol name in listOfFile:\n",
        "        fullPath = os.path.join(dirName,fol_name)\n",
        "        allFiles.append(fullPath)\n",
        "    return allFiles\n",
        "\n",
        "Folders = getListOfFiles(dirName)\n",
        "len(Folders)\n",
        "subfolders = []\n",
        "for num in range(len(Folders)):\n",
        "    sub_fols = getListOfFiles(Folders[num])\n",
        "    subfolders+=sub_fols\n",
        "subfolders"
      ],
      "metadata": {
        "id": "lDyr0CAHHExH"
      },
      "execution_count": null,
      "outputs": []
    },
    {
      "cell_type": "markdown",
      "source": [
        "**Loading Images Into Machine Understandable Data**"
      ],
      "metadata": {
        "id": "J9DSQ3QzGug-"
      }
    },
    {
      "cell_type": "code",
      "source": [
        "X_data=[]\n",
        "Y_data=[]\n",
        "id_no=0\n",
        "\n",
        "found=[]\n",
        "\n",
        "for paths in subfolders:\n",
        "    files = glob.glob(paths+ \"/*.jpg\")\n",
        "    found.append((paths.split('||')[-2],paths.split('||')[-1]))\n",
        "\n",
        "    for myFile in files:\n",
        "        img=Image.open(myFile)\n",
        "        img=img.resize((224,224),Image.ANTIALIAS)\n",
        "        img=np.array(img)\n",
        "        if img.shape==(224,224,3):\n",
        "            X_data.append(img)\n",
        "            Y_data.append(id_no)\n",
        "    id_no+=1"
      ],
      "metadata": {
        "id": "ZgnSAQMAG907"
      },
      "execution_count": null,
      "outputs": []
    },
    {
      "cell_type": "markdown",
      "source": [
        "**Data Splitting Into Train And Test**"
      ],
      "metadata": {
        "id": "jNYbRBxpGlzT"
      }
    },
    {
      "cell_type": "code",
      "execution_count": null,
      "metadata": {
        "id": "IUozjPkIGjxO"
      },
      "outputs": [],
      "source": [
        "print(X_data)\n",
        "print(Y_data)\n",
        "\n",
        "X=np.array(X_data)\n",
        "Y=np.array(Y_data)\n",
        "\n",
        "print(\"x-shape\",X.shape,\"y shape\",Y.shape)\n",
        "\n",
        "X=X.astype('float32')/255.0\n",
        "y_cat=to_categorical(Y_data,len(subfolders))\n",
        "\n",
        "print(\"X shape\",X,\"y_cat shape\",y_cat)\n",
        "print(\"X shape\",X.shape,\"y_cat shape\",y_cat.shape)\n",
        "\n",
        "X_train,X_test,y_train,y_test=train_test_split(X,y_cat,test_size=0.2)\n",
        "print(\"The model has \"+str(len(X_train))+\" inputs\")"
      ]
    }
  ]
}