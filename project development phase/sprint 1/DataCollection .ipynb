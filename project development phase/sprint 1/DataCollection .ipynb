{
  "nbformat": 4,
  "nbformat_minor": 0,
  "metadata": {
    "colab": {
      "provenance": [],
      "collapsed_sections": []
    },
    "kernelspec": {
      "name": "python3",
      "display_name": "Python 3"
    },
    "language_info": {
      "name": "python"
    }
  },
  "cells": [
    {
      "cell_type": "markdown",
      "source": [
        "**Downloading The Data**"
      ],
      "metadata": {
        "id": "as00JeqjAhLl"
      }
    },
    {
      "cell_type": "code",
      "execution_count": 1,
      "metadata": {
        "colab": {
          "base_uri": "https://localhost:8080/"
        },
        "id": "YMuIKyDhurR3",
        "outputId": "1c5a63f5-4968-4d95-9ea1-46284b695af6"
      },
      "outputs": [
        {
          "output_type": "stream",
          "name": "stdout",
          "text": [
            "Drive already mounted at /content/drive; to attempt to forcibly remount, call drive.mount(\"/content/drive\", force_remount=True).\n"
          ]
        }
      ],
      "source": [
        "from google.colab import drive\n",
        "drive.mount('/content/drive')"
      ]
    },
    {
      "cell_type": "code",
      "source": [
        "cd /content/drive/MyDrive/ibm/Digital Naturalist Dataset/Digital Naturalist Dataset"
      ],
      "metadata": {
        "colab": {
          "base_uri": "https://localhost:8080/"
        },
        "id": "om3UfWU2vvb_",
        "outputId": "96817692-fa56-4666-938a-9c5b38403897"
      },
      "execution_count": 2,
      "outputs": [
        {
          "output_type": "stream",
          "name": "stdout",
          "text": [
            "/content/drive/MyDrive/ibm/Digital Naturalist Dataset/Digital Naturalist Dataset\n"
          ]
        }
      ]
    },
    {
      "cell_type": "code",
      "source": [
        "ls"
      ],
      "metadata": {
        "colab": {
          "base_uri": "https://localhost:8080/"
        },
        "id": "3Fd-lhZiv0yR",
        "outputId": "727f16ed-e88f-4c78-f1ec-8443bbbb5b94"
      },
      "execution_count": 3,
      "outputs": [
        {
          "output_type": "stream",
          "name": "stdout",
          "text": [
            "\u001b[0m\u001b[01;34mBird\u001b[0m/  \u001b[01;34mFlower\u001b[0m/  \u001b[01;34mMammal\u001b[0m/\n"
          ]
        }
      ]
    },
    {
      "cell_type": "markdown",
      "source": [
        "**Data Augmantation**"
      ],
      "metadata": {
        "id": "c_SCK2ztA7P9"
      }
    },
    {
      "cell_type": "code",
      "source": [
        "from keras.preprocessing.image import ImageDataGenerator\n",
        "import cv2\n",
        "from os import listdir\n",
        "import time"
      ],
      "metadata": {
        "id": "1NUIw9SMAW8d"
      },
      "execution_count": 4,
      "outputs": []
    },
    {
      "cell_type": "code",
      "source": [
        "def hms_string (sec_elapsed):\n",
        "  h = int(sec_elapsed / (60 * 60))\n",
        "  m = int((sec_elapsed % (60*60)) / 60)\n",
        "  S = sec_elapsed % 60\n",
        "  return f\"{h}: {m}: {round (S,1)}\"\n",
        "def augment_data( file_dir, n_generated_samples, save_to_dir):\n",
        "  data_gen = ImageDataGenerator (rotation_range=30,\n",
        "                                 width_shift_range=0.1,\n",
        "                                 height_shift_range=0.15,\n",
        "                                 shear_range=0.25,\n",
        "                                 zoom_range = 0.2,\n",
        "                                 horizontal_flip=True,\n",
        "                                 vertical_flip=False,\n",
        "                                 fill_mode='nearest',\n",
        "                                 brightness_range=(0.5,1.2))\n",
        "  for filename in listdir(file_dir):\n",
        "        image = cv2.imread(file_dir + '/' + filename)\n",
        "        image = cv2.cvtColor(image,cv2.COLOR_BGR2RGB)\n",
        "        image = image.reshape((1,)+image.shape)\n",
        "        save_prefix = 'aug_' + filename[:-4]    \n",
        "        i=0\n",
        "        for batch in data_gen.flow(x=image, batch_size=1, save_to_dir=save_to_dir,\n",
        "                                   save_prefix=save_prefix, save_format='jpg'):\n",
        "            i += 1\n",
        "            if i > n_generated_samples:\n",
        "                break\n",
        "\n"
      ],
      "metadata": {
        "id": "YTjcnOz2UBIV"
      },
      "execution_count": 25,
      "outputs": []
    },
    {
      "cell_type": "code",
      "source": [
        "start_time= time.time()\n",
        "\n",
        "augmented_data_path ='/content/drive/MyDrive/Augmentation data'\n",
        "\n",
        "augment_data(file_dir='/content/drive/MyDrive/ibm/Digital Naturalist Dataset/Digital Naturalist Dataset/Bird/Great Indian Bustard Bird', n_generated_samples=42, save_to_dir=augmented_data_path+'/Bird/GIB_AUG')\n",
        "augment_data(file_dir='/content/drive/MyDrive/ibm/Digital Naturalist Dataset/Digital Naturalist Dataset/Bird/Spoon Billed Sandpiper Bird', n_generated_samples=42, save_to_dir=augmented_data_path+'/Bird/SPS_AUG')\n",
        "\n",
        "augment_data(file_dir='/content/drive/MyDrive/ibm/Digital Naturalist Dataset/Digital Naturalist Dataset/Flower/Corpse Flower', n_generated_samples=49, save_to_dir=augmented_data_path+'/Flower/Cropse_AUG')\n",
        "augment_data(file_dir='/content/drive/MyDrive/ibm/Digital Naturalist Dataset/Digital Naturalist Dataset/Flower/Lady Slipper Orchid Flower', n_generated_samples=49, save_to_dir=augmented_data_path+'/Flower/LS_Orchid_AUG')\n",
        "\n",
        "augment_data(file_dir='/content/drive/MyDrive/ibm/Digital Naturalist Dataset/Digital Naturalist Dataset/Mammal/Pangolin Mammal', n_generated_samples=47, save_to_dir=augmented_data_path+'/Mammal/Pangolin_AUG')\n",
        "augment_data(file_dir='/content/drive/MyDrive/ibm/Digital Naturalist Dataset/Digital Naturalist Dataset/Mammal/Senenca White Deer Mammal', n_generated_samples=47, save_to_dir=augmented_data_path+'/Mammal/SW_Deer_AUG')\n",
        "\n",
        "end_time = time.time()\n",
        "execution_time =(end_time - start_time)\n",
        "print(f\"elapsed time: {hms_string(execution_time)}\")"
      ],
      "metadata": {
        "colab": {
          "base_uri": "https://localhost:8080/"
        },
        "id": "DwHtEQG8iQy2",
        "outputId": "01c18de7-372c-409b-d1f0-2ec57bd7633c"
      },
      "execution_count": 27,
      "outputs": [
        {
          "output_type": "stream",
          "name": "stdout",
          "text": [
            "elapsed time: 0: 2: 56.4\n"
          ]
        }
      ]
    },
    {
      "cell_type": "code",
      "source": [],
      "metadata": {
        "id": "rCUISnj3iQwj"
      },
      "execution_count": null,
      "outputs": []
    }
  ]
}