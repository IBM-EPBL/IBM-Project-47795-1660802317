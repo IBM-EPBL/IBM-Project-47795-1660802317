{
  "nbformat": 4,
  "nbformat_minor": 0,
  "metadata": {
    "colab": {
      "provenance": [],
      "collapsed_sections": []
    },
    "kernelspec": {
      "name": "python3",
      "display_name": "Python 3"
    },
    "language_info": {
      "name": "python"
    }
  },
  "cells": [
    {
      "cell_type": "markdown",
      "source": [
        "**Importing Libraries**"
      ],
      "metadata": {
        "id": "JV2DcW75LoCU"
      }
    },
    {
      "cell_type": "code",
      "source": [
        "import os, gc, glob, random\n",
        "import numpy as np\n",
        "import matplotlib.pyplot as plt\n",
        "import pandas as pd\n",
        "import tensorflow as tf\n",
        "import keras\n",
        "from PIL import Image\n",
        "from keras.layers import Dense,Flatten\n",
        "from keras.models import Model\n",
        "from keras.applications.inception_v3 import InceptionV3, preprocess_input\n",
        "from keras.callbacks import ModelCheckpoint, EarlyStopping\n",
        "from keras.utils.np_utils import to_categorical\n",
        "from sklearn.model_selection import train_test_split"
      ],
      "metadata": {
        "id": "qwUWLMn9KvKL"
      },
      "execution_count": null,
      "outputs": []
    },
    {
      "cell_type": "markdown",
      "source": [
        "**Data Splitting into Train and Test bold text**"
      ],
      "metadata": {
        "id": "2QcCvQfwKnJg"
      }
    },
    {
      "cell_type": "code",
      "execution_count": null,
      "metadata": {
        "id": "VsiJz30Qwedy"
      },
      "outputs": [],
      "source": [
        "from tensorflow.keras.models import Sequential\n",
        "from tensorflow.keras.layers import Convolution2D,MaxPooling2D,Flatten,Dense\n",
        "from tensorflow.keras.preprocessing.image import ImageDataGenerator as idm\n",
        "import numpy as np\n",
        "import warnings\n",
        "#Supressing warnings\n",
        "warnings.filterwarnings('ignore')"
      ]
    },
    {
      "cell_type": "code",
      "source": [
        "# Creating augmentation on training variable\n",
        "train_flowers=idm(rescale=1./255, shear_range=0.2,zoom_range=0.2,horizontal_flip=True)\n",
        "\n",
        "# Passing training data to train variable\n",
        "Xtrain = train_flowers.flow_from_directory('/content/drive/MyDrive/ibm/Digital Naturalist Dataset/Digital Naturalist Dataset/Flower',target_size=(76,76),class_mode='categorical',batch_size=100)"
      ],
      "metadata": {
        "colab": {
          "base_uri": "https://localhost:8080/"
        },
        "id": "9pcD9zgYxgpj",
        "outputId": "48064f0b-8676-4a99-9127-cd7e23cb53ac"
      },
      "execution_count": null,
      "outputs": [
        {
          "output_type": "stream",
          "name": "stdout",
          "text": [
            "Found 49 images belonging to 2 classes.\n"
          ]
        }
      ]
    },
    {
      "cell_type": "code",
      "source": [
        "# Creating augmentation on testing variable\n",
        "test_flowers=idm(rescale=1./255)\n",
        "\n",
        "# Passing testing data to test variable\n",
        "Xtest = test_flowers.flow_from_directory('/content/drive/MyDrive/ibm/Digital Naturalist Dataset/Digital Naturalist Dataset/Flower',target_size=(76,76),class_mode='categorical',batch_size=100)"
      ],
      "metadata": {
        "colab": {
          "base_uri": "https://localhost:8080/"
        },
        "id": "fDP7xEn8y0x0",
        "outputId": "174e21d8-3fd2-451a-f143-f8995324dcfb"
      },
      "execution_count": null,
      "outputs": [
        {
          "output_type": "stream",
          "name": "stdout",
          "text": [
            "Found 49 images belonging to 2 classes.\n"
          ]
        }
      ]
    },
    {
      "cell_type": "code",
      "source": [
        "# Creating augmentation on training variable\n",
        "train_Bird=idm(rescale=1./255, shear_range=0.2,zoom_range=0.2,horizontal_flip=True)\n",
        "\n",
        "# Passing training data to train variable\n",
        "Xtrain = train_Bird.flow_from_directory('/content/drive/MyDrive/ibm/Digital Naturalist Dataset/Digital Naturalist Dataset/Bird',target_size=(76,76),class_mode='categorical',batch_size=100)"
      ],
      "metadata": {
        "colab": {
          "base_uri": "https://localhost:8080/"
        },
        "id": "8jsW7XWszFVB",
        "outputId": "cc771701-4816-4858-a940-06da7815fcf8"
      },
      "execution_count": null,
      "outputs": [
        {
          "output_type": "stream",
          "name": "stdout",
          "text": [
            "Found 42 images belonging to 2 classes.\n"
          ]
        }
      ]
    },
    {
      "cell_type": "code",
      "source": [
        "# Creating augmentation on testing variable\n",
        "test_Bird=idm(rescale=1./255)\n",
        "\n",
        "# Passing testing data to test variable\n",
        "Xtest = test_Bird.flow_from_directory('/content/drive/MyDrive/ibm/Digital Naturalist Dataset/Digital Naturalist Dataset/Bird',target_size=(76,76),class_mode='categorical',batch_size=100)"
      ],
      "metadata": {
        "colab": {
          "base_uri": "https://localhost:8080/"
        },
        "id": "XU9zvSrAzVyu",
        "outputId": "379a7069-23b2-45d8-9b2c-d4b71974e82a"
      },
      "execution_count": null,
      "outputs": [
        {
          "output_type": "stream",
          "name": "stdout",
          "text": [
            "Found 42 images belonging to 2 classes.\n"
          ]
        }
      ]
    },
    {
      "cell_type": "code",
      "source": [
        "# Creating augmentation on training variable\n",
        "train_Mammal=idm(rescale=1./255, shear_range=0.2,zoom_range=0.2,horizontal_flip=True)\n",
        "\n",
        "# Passing training data to train variable\n",
        "Xtrain = train_Mammal.flow_from_directory('/content/drive/MyDrive/ibm/Digital Naturalist Dataset/Digital Naturalist Dataset/Mammal',target_size=(76,76),class_mode='categorical',batch_size=100)"
      ],
      "metadata": {
        "colab": {
          "base_uri": "https://localhost:8080/"
        },
        "id": "BeQA14iizJu1",
        "outputId": "bae63836-2492-4fa3-bcf3-ccdc66e25aa3"
      },
      "execution_count": null,
      "outputs": [
        {
          "output_type": "stream",
          "name": "stdout",
          "text": [
            "Found 47 images belonging to 2 classes.\n"
          ]
        }
      ]
    },
    {
      "cell_type": "code",
      "source": [
        "# Creating augmentation on testing variable\n",
        "test_Mammal=idm(rescale=1./255)\n",
        "\n",
        "# Passing testing data to test variable\n",
        "Xtest = test_Mammal.flow_from_directory('/content/drive/MyDrive/ibm/Digital Naturalist Dataset/Digital Naturalist Dataset/Mammal',target_size=(76,76),class_mode='categorical',batch_size=100)"
      ],
      "metadata": {
        "colab": {
          "base_uri": "https://localhost:8080/"
        },
        "id": "tHkaqM-6zelu",
        "outputId": "d3d70cee-9cc5-4275-b620-b4e7f33f0297"
      },
      "execution_count": null,
      "outputs": [
        {
          "output_type": "stream",
          "name": "stdout",
          "text": [
            "Found 47 images belonging to 2 classes.\n"
          ]
        }
      ]
    }
  ]
}