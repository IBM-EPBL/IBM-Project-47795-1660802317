{
  "nbformat": 4,
  "nbformat_minor": 0,
  "metadata": {
    "colab": {
      "provenance": [],
      "collapsed_sections": []
    },
    "kernelspec": {
      "name": "python3",
      "display_name": "Python 3"
    },
    "language_info": {
      "name": "python"
    }
  },
  "cells": [
    {
      "cell_type": "code",
      "execution_count": 1,
      "metadata": {
        "colab": {
          "base_uri": "https://localhost:8080/"
        },
        "id": "LYGlIJ_OjDpE",
        "outputId": "3b58cd01-5da6-4599-ffd0-26501189d5b5"
      },
      "outputs": [
        {
          "output_type": "stream",
          "name": "stdout",
          "text": [
            "Drive already mounted at /content/drive; to attempt to forcibly remount, call drive.mount(\"/content/drive\", force_remount=True).\n"
          ]
        }
      ],
      "source": [
        "from google.colab import drive\n",
        "drive.mount('/content/drive')"
      ]
    },
    {
      "cell_type": "code",
      "source": [
        "!unzip \"/content/drive/MyDrive/ibm/Digital Naturalist Dataset.zip\""
      ],
      "metadata": {
        "colab": {
          "base_uri": "https://localhost:8080/"
        },
        "id": "gKEx4sbtjffr",
        "outputId": "6131ac7e-db5b-4637-e8e9-b678dad52b34"
      },
      "execution_count": 2,
      "outputs": [
        {
          "output_type": "stream",
          "name": "stdout",
          "text": [
            "Archive:  /content/drive/MyDrive/ibm/Digital Naturalist Dataset.zip\n",
            "   creating: Digital Naturalist Dataset/\n",
            "   creating: Digital Naturalist Dataset/Bird/\n",
            "   creating: Digital Naturalist Dataset/Bird/Great Indian Bustard Bird/\n",
            "  inflating: Digital Naturalist Dataset/Bird/Great Indian Bustard Bird/download (1).jpg  \n",
            "  inflating: Digital Naturalist Dataset/Bird/Great Indian Bustard Bird/download (10).jpg  \n",
            "  inflating: Digital Naturalist Dataset/Bird/Great Indian Bustard Bird/download (11).jpg  \n",
            "  inflating: Digital Naturalist Dataset/Bird/Great Indian Bustard Bird/download (2).jpg  \n",
            "  inflating: Digital Naturalist Dataset/Bird/Great Indian Bustard Bird/download (3).jpg  \n",
            "  inflating: Digital Naturalist Dataset/Bird/Great Indian Bustard Bird/download (4).jpg  \n",
            "  inflating: Digital Naturalist Dataset/Bird/Great Indian Bustard Bird/download (5).jpg  \n",
            "  inflating: Digital Naturalist Dataset/Bird/Great Indian Bustard Bird/download (6).jpg  \n",
            "  inflating: Digital Naturalist Dataset/Bird/Great Indian Bustard Bird/download (7).jpg  \n",
            "  inflating: Digital Naturalist Dataset/Bird/Great Indian Bustard Bird/download (8).jpg  \n",
            "  inflating: Digital Naturalist Dataset/Bird/Great Indian Bustard Bird/download (9).jpg  \n",
            "  inflating: Digital Naturalist Dataset/Bird/Great Indian Bustard Bird/download.jpg  \n",
            " extracting: Digital Naturalist Dataset/Bird/Great Indian Bustard Bird/greatindianbustard-kRDC--621x414@LiveMint.webp  \n",
            "  inflating: Digital Naturalist Dataset/Bird/Great Indian Bustard Bird/images (1).jpg  \n",
            "  inflating: Digital Naturalist Dataset/Bird/Great Indian Bustard Bird/images (2).jpg  \n",
            "  inflating: Digital Naturalist Dataset/Bird/Great Indian Bustard Bird/images (3).jpg  \n",
            "  inflating: Digital Naturalist Dataset/Bird/Great Indian Bustard Bird/images (4).jpg  \n",
            "  inflating: Digital Naturalist Dataset/Bird/Great Indian Bustard Bird/images (5).jpg  \n",
            "  inflating: Digital Naturalist Dataset/Bird/Great Indian Bustard Bird/images (6).jpg  \n",
            "  inflating: Digital Naturalist Dataset/Bird/Great Indian Bustard Bird/images (7).jpg  \n",
            "  inflating: Digital Naturalist Dataset/Bird/Great Indian Bustard Bird/images (8).jpg  \n",
            "  inflating: Digital Naturalist Dataset/Bird/Great Indian Bustard Bird/images.jpg  \n",
            "   creating: Digital Naturalist Dataset/Bird/Spoon Billed Sandpiper Bird/\n",
            "  inflating: Digital Naturalist Dataset/Bird/Spoon Billed Sandpiper Bird/download (1).jpg  \n",
            "  inflating: Digital Naturalist Dataset/Bird/Spoon Billed Sandpiper Bird/download (12).jpg  \n",
            "  inflating: Digital Naturalist Dataset/Bird/Spoon Billed Sandpiper Bird/download (2).jpg  \n",
            "  inflating: Digital Naturalist Dataset/Bird/Spoon Billed Sandpiper Bird/download (3).jpg  \n",
            "  inflating: Digital Naturalist Dataset/Bird/Spoon Billed Sandpiper Bird/download (4).jpg  \n",
            "  inflating: Digital Naturalist Dataset/Bird/Spoon Billed Sandpiper Bird/download (5).jpg  \n",
            "  inflating: Digital Naturalist Dataset/Bird/Spoon Billed Sandpiper Bird/download (6).jpg  \n",
            "  inflating: Digital Naturalist Dataset/Bird/Spoon Billed Sandpiper Bird/download (7).jpg  \n",
            "  inflating: Digital Naturalist Dataset/Bird/Spoon Billed Sandpiper Bird/download.jpg  \n",
            "  inflating: Digital Naturalist Dataset/Bird/Spoon Billed Sandpiper Bird/images (1).jpg  \n",
            "  inflating: Digital Naturalist Dataset/Bird/Spoon Billed Sandpiper Bird/images (10).jpg  \n",
            "  inflating: Digital Naturalist Dataset/Bird/Spoon Billed Sandpiper Bird/images (11).jpg  \n",
            "  inflating: Digital Naturalist Dataset/Bird/Spoon Billed Sandpiper Bird/images (2).jpg  \n",
            "  inflating: Digital Naturalist Dataset/Bird/Spoon Billed Sandpiper Bird/images (3).jpg  \n",
            "  inflating: Digital Naturalist Dataset/Bird/Spoon Billed Sandpiper Bird/images (4).jpg  \n",
            "  inflating: Digital Naturalist Dataset/Bird/Spoon Billed Sandpiper Bird/images (5).jpg  \n",
            "  inflating: Digital Naturalist Dataset/Bird/Spoon Billed Sandpiper Bird/images (6).jpg  \n",
            "  inflating: Digital Naturalist Dataset/Bird/Spoon Billed Sandpiper Bird/images (7).jpg  \n",
            "  inflating: Digital Naturalist Dataset/Bird/Spoon Billed Sandpiper Bird/images (8).jpg  \n",
            "  inflating: Digital Naturalist Dataset/Bird/Spoon Billed Sandpiper Bird/images (9).jpg  \n",
            "  inflating: Digital Naturalist Dataset/Bird/Spoon Billed Sandpiper Bird/images.jpg  \n",
            "   creating: Digital Naturalist Dataset/Flower/\n",
            "   creating: Digital Naturalist Dataset/Flower/Corpse Flower/\n",
            "  inflating: Digital Naturalist Dataset/Flower/Corpse Flower/download (1).jpg  \n",
            "  inflating: Digital Naturalist Dataset/Flower/Corpse Flower/download (11).jpg  \n",
            "  inflating: Digital Naturalist Dataset/Flower/Corpse Flower/download (2).jpg  \n",
            "  inflating: Digital Naturalist Dataset/Flower/Corpse Flower/download (3).jpg  \n",
            "  inflating: Digital Naturalist Dataset/Flower/Corpse Flower/download (4).jpg  \n",
            "  inflating: Digital Naturalist Dataset/Flower/Corpse Flower/download (5).jpg  \n",
            "  inflating: Digital Naturalist Dataset/Flower/Corpse Flower/download.jpg  \n",
            "  inflating: Digital Naturalist Dataset/Flower/Corpse Flower/images (1).jpg  \n",
            "  inflating: Digital Naturalist Dataset/Flower/Corpse Flower/images (10).jpg  \n",
            "  inflating: Digital Naturalist Dataset/Flower/Corpse Flower/images (11).jpg  \n",
            "  inflating: Digital Naturalist Dataset/Flower/Corpse Flower/images (12).jpg  \n",
            "  inflating: Digital Naturalist Dataset/Flower/Corpse Flower/images (13).jpg  \n",
            "  inflating: Digital Naturalist Dataset/Flower/Corpse Flower/images (14).jpg  \n",
            "  inflating: Digital Naturalist Dataset/Flower/Corpse Flower/images (15).jpg  \n",
            "  inflating: Digital Naturalist Dataset/Flower/Corpse Flower/images (16).jpg  \n",
            " extracting: Digital Naturalist Dataset/Flower/Corpse Flower/images (17).jpg  \n",
            "  inflating: Digital Naturalist Dataset/Flower/Corpse Flower/images (2).jpg  \n",
            "  inflating: Digital Naturalist Dataset/Flower/Corpse Flower/images (3).jpg  \n",
            "  inflating: Digital Naturalist Dataset/Flower/Corpse Flower/images (4).jpg  \n",
            "  inflating: Digital Naturalist Dataset/Flower/Corpse Flower/images (5).jpg  \n",
            "  inflating: Digital Naturalist Dataset/Flower/Corpse Flower/images (6).jpg  \n",
            "  inflating: Digital Naturalist Dataset/Flower/Corpse Flower/images (7).jpg  \n",
            "  inflating: Digital Naturalist Dataset/Flower/Corpse Flower/images (8).jpg  \n",
            "  inflating: Digital Naturalist Dataset/Flower/Corpse Flower/images (9).jpg  \n",
            " extracting: Digital Naturalist Dataset/Flower/Corpse Flower/images.jpg  \n",
            "   creating: Digital Naturalist Dataset/Flower/Lady Slipper Orchid Flower/\n",
            "  inflating: Digital Naturalist Dataset/Flower/Lady Slipper Orchid Flower/download (1).jpg  \n",
            "  inflating: Digital Naturalist Dataset/Flower/Lady Slipper Orchid Flower/download (10).jpg  \n",
            "  inflating: Digital Naturalist Dataset/Flower/Lady Slipper Orchid Flower/download (2).jpg  \n",
            "  inflating: Digital Naturalist Dataset/Flower/Lady Slipper Orchid Flower/download (3).jpg  \n",
            "  inflating: Digital Naturalist Dataset/Flower/Lady Slipper Orchid Flower/download (4).jpg  \n",
            "  inflating: Digital Naturalist Dataset/Flower/Lady Slipper Orchid Flower/download (5).jpg  \n",
            "  inflating: Digital Naturalist Dataset/Flower/Lady Slipper Orchid Flower/download (6).jpg  \n",
            "  inflating: Digital Naturalist Dataset/Flower/Lady Slipper Orchid Flower/download (7).jpg  \n",
            "  inflating: Digital Naturalist Dataset/Flower/Lady Slipper Orchid Flower/download (8).jpg  \n",
            "  inflating: Digital Naturalist Dataset/Flower/Lady Slipper Orchid Flower/download (9).jpg  \n",
            "  inflating: Digital Naturalist Dataset/Flower/Lady Slipper Orchid Flower/download.jpg  \n",
            "  inflating: Digital Naturalist Dataset/Flower/Lady Slipper Orchid Flower/images (1).jpg  \n",
            "  inflating: Digital Naturalist Dataset/Flower/Lady Slipper Orchid Flower/images (10).jpg  \n",
            "  inflating: Digital Naturalist Dataset/Flower/Lady Slipper Orchid Flower/images (11).jpg  \n",
            "  inflating: Digital Naturalist Dataset/Flower/Lady Slipper Orchid Flower/images (12).jpg  \n",
            "  inflating: Digital Naturalist Dataset/Flower/Lady Slipper Orchid Flower/images (2).jpg  \n",
            "  inflating: Digital Naturalist Dataset/Flower/Lady Slipper Orchid Flower/images (3).jpg  \n",
            "  inflating: Digital Naturalist Dataset/Flower/Lady Slipper Orchid Flower/images (4).jpg  \n",
            "  inflating: Digital Naturalist Dataset/Flower/Lady Slipper Orchid Flower/images (5).jpg  \n",
            "  inflating: Digital Naturalist Dataset/Flower/Lady Slipper Orchid Flower/images (6).jpg  \n",
            "  inflating: Digital Naturalist Dataset/Flower/Lady Slipper Orchid Flower/images (7).jpg  \n",
            "  inflating: Digital Naturalist Dataset/Flower/Lady Slipper Orchid Flower/images (8).jpg  \n",
            "  inflating: Digital Naturalist Dataset/Flower/Lady Slipper Orchid Flower/images (9).jpg  \n",
            "  inflating: Digital Naturalist Dataset/Flower/Lady Slipper Orchid Flower/images.jpg  \n",
            "   creating: Digital Naturalist Dataset/Mammal/\n",
            "   creating: Digital Naturalist Dataset/Mammal/Pangolin Mammal/\n",
            "  inflating: Digital Naturalist Dataset/Mammal/Pangolin Mammal/download (1).jpg  \n",
            "  inflating: Digital Naturalist Dataset/Mammal/Pangolin Mammal/download (2).jpg  \n",
            "  inflating: Digital Naturalist Dataset/Mammal/Pangolin Mammal/download (3).jpg  \n",
            "  inflating: Digital Naturalist Dataset/Mammal/Pangolin Mammal/download (4).jpg  \n",
            " extracting: Digital Naturalist Dataset/Mammal/Pangolin Mammal/download (5).jpg  \n",
            "  inflating: Digital Naturalist Dataset/Mammal/Pangolin Mammal/download (6).jpg  \n",
            "  inflating: Digital Naturalist Dataset/Mammal/Pangolin Mammal/download (8).jpg  \n",
            "  inflating: Digital Naturalist Dataset/Mammal/Pangolin Mammal/download.jpg  \n",
            "  inflating: Digital Naturalist Dataset/Mammal/Pangolin Mammal/images (1).jpg  \n",
            "  inflating: Digital Naturalist Dataset/Mammal/Pangolin Mammal/images (10).jpg  \n",
            "  inflating: Digital Naturalist Dataset/Mammal/Pangolin Mammal/images (11).jpg  \n",
            "  inflating: Digital Naturalist Dataset/Mammal/Pangolin Mammal/images (12).jpg  \n",
            "  inflating: Digital Naturalist Dataset/Mammal/Pangolin Mammal/images (13).jpg  \n",
            "  inflating: Digital Naturalist Dataset/Mammal/Pangolin Mammal/images (14).jpg  \n",
            "  inflating: Digital Naturalist Dataset/Mammal/Pangolin Mammal/images (15).jpg  \n",
            "  inflating: Digital Naturalist Dataset/Mammal/Pangolin Mammal/images (16).jpg  \n",
            "  inflating: Digital Naturalist Dataset/Mammal/Pangolin Mammal/images (2).jpg  \n",
            "  inflating: Digital Naturalist Dataset/Mammal/Pangolin Mammal/images (3).jpg  \n",
            "  inflating: Digital Naturalist Dataset/Mammal/Pangolin Mammal/images (4).jpg  \n",
            "  inflating: Digital Naturalist Dataset/Mammal/Pangolin Mammal/images (5).jpg  \n",
            "  inflating: Digital Naturalist Dataset/Mammal/Pangolin Mammal/images (6).jpg  \n",
            "  inflating: Digital Naturalist Dataset/Mammal/Pangolin Mammal/images (7).jpg  \n",
            "  inflating: Digital Naturalist Dataset/Mammal/Pangolin Mammal/images (8).jpg  \n",
            "  inflating: Digital Naturalist Dataset/Mammal/Pangolin Mammal/images (9).jpg  \n",
            "  inflating: Digital Naturalist Dataset/Mammal/Pangolin Mammal/images.jpg  \n",
            "   creating: Digital Naturalist Dataset/Mammal/Senenca White Deer Mammal/\n",
            "  inflating: Digital Naturalist Dataset/Mammal/Senenca White Deer Mammal/download (1).jpg  \n",
            "  inflating: Digital Naturalist Dataset/Mammal/Senenca White Deer Mammal/download (2).jpg  \n",
            "  inflating: Digital Naturalist Dataset/Mammal/Senenca White Deer Mammal/download (3).jpg  \n",
            "  inflating: Digital Naturalist Dataset/Mammal/Senenca White Deer Mammal/download (7).jpg  \n",
            "  inflating: Digital Naturalist Dataset/Mammal/Senenca White Deer Mammal/download.jpg  \n",
            "  inflating: Digital Naturalist Dataset/Mammal/Senenca White Deer Mammal/images (1).jpg  \n",
            "  inflating: Digital Naturalist Dataset/Mammal/Senenca White Deer Mammal/images (10).jpg  \n",
            "  inflating: Digital Naturalist Dataset/Mammal/Senenca White Deer Mammal/images (11).jpg  \n",
            "  inflating: Digital Naturalist Dataset/Mammal/Senenca White Deer Mammal/images (12).jpg  \n",
            "  inflating: Digital Naturalist Dataset/Mammal/Senenca White Deer Mammal/images (13).jpg  \n",
            "  inflating: Digital Naturalist Dataset/Mammal/Senenca White Deer Mammal/images (14).jpg  \n",
            "  inflating: Digital Naturalist Dataset/Mammal/Senenca White Deer Mammal/images (15).jpg  \n",
            "  inflating: Digital Naturalist Dataset/Mammal/Senenca White Deer Mammal/images (16).jpg  \n",
            "  inflating: Digital Naturalist Dataset/Mammal/Senenca White Deer Mammal/images (2).jpg  \n",
            "  inflating: Digital Naturalist Dataset/Mammal/Senenca White Deer Mammal/images (3).jpg  \n",
            "  inflating: Digital Naturalist Dataset/Mammal/Senenca White Deer Mammal/images (4).jpg  \n",
            "  inflating: Digital Naturalist Dataset/Mammal/Senenca White Deer Mammal/images (5).jpg  \n",
            "  inflating: Digital Naturalist Dataset/Mammal/Senenca White Deer Mammal/images (6).jpg  \n",
            "  inflating: Digital Naturalist Dataset/Mammal/Senenca White Deer Mammal/images (7).jpg  \n",
            "  inflating: Digital Naturalist Dataset/Mammal/Senenca White Deer Mammal/images (8).jpg  \n",
            "  inflating: Digital Naturalist Dataset/Mammal/Senenca White Deer Mammal/images (9).jpg  \n",
            "  inflating: Digital Naturalist Dataset/Mammal/Senenca White Deer Mammal/images.jpg  \n"
          ]
        }
      ]
    },
    {
      "cell_type": "code",
      "source": [
        "cd /content/Digital Naturalist Dataset"
      ],
      "metadata": {
        "colab": {
          "base_uri": "https://localhost:8080/"
        },
        "id": "kSaqwF-PjxUp",
        "outputId": "9d8c849b-bf3e-4ba3-f13e-a51b88c6b5d9"
      },
      "execution_count": 3,
      "outputs": [
        {
          "output_type": "stream",
          "name": "stdout",
          "text": [
            "/content/Digital Naturalist Dataset\n"
          ]
        }
      ]
    },
    {
      "cell_type": "code",
      "source": [
        "ls"
      ],
      "metadata": {
        "colab": {
          "base_uri": "https://localhost:8080/"
        },
        "id": "ffnfqpIskBgK",
        "outputId": "e4c11c84-96d4-4b1b-8191-67dc4bf71ddd"
      },
      "execution_count": 4,
      "outputs": [
        {
          "output_type": "stream",
          "name": "stdout",
          "text": [
            "\u001b[0m\u001b[01;34mBird\u001b[0m/  \u001b[01;34mFlower\u001b[0m/  \u001b[01;34mMammal\u001b[0m/\n"
          ]
        }
      ]
    },
    {
      "cell_type": "markdown",
      "source": [
        " **DataAugmantation**"
      ],
      "metadata": {
        "id": "CIQuBdWBMKFD"
      }
    },
    {
      "cell_type": "code",
      "source": [
        "from keras.preprocessing.image import ImageDataGenerator\n",
        "import cv2\n",
        "from os import listdir\n",
        "import time"
      ],
      "metadata": {
        "id": "ENCkewrNkE3N"
      },
      "execution_count": null,
      "outputs": []
    },
    {
      "cell_type": "code",
      "source": [
        "def hms_string (sec_elapsed):\n",
        "  h = int(sec_elapsed / (60 * 60))\n",
        "  m = int((sec_elapsed % (60*60)) / 60)\n",
        "  S = sec_elapsed % 60\n",
        "  return f\"{h}: {m}: {round (S,1)}\"\n",
        "def augment_data( file_dir, n_generated_samples, save_to_dir):\n",
        "  data_gen = ImageDataGenerator (rotation_range=30,\n",
        "                                 width_shift_range=0.1,\n",
        "                                 height_shift_range=0.15,\n",
        "                                 shear_range=0.25,\n",
        "                                 zoom_range = 0.2,\n",
        "                                 horizontal_flip=True,\n",
        "                                 vertical_flip=False,\n",
        "                                 fill_mode='nearest',\n",
        "                                 brightness_range=(0.5,1.2))\n",
        "  for filename in listdir(file_dir):\n",
        "        image = cv2.imread(file_dir + '/' + filename)\n",
        "        image = cv2.cvtColor(image,cv2.COLOR_BGR2RGB)\n",
        "        image = image.reshape((1,)+image.shape)\n",
        "        save_prefix = 'aug_' + filename[:-4]    \n",
        "        i=0\n",
        "        for batch in data_gen.flow(x=image, batch_size=1, save_to_dir=save_to_dir,\n",
        "                                   save_prefix=save_prefix, save_format='jpg'):\n",
        "            i += 1\n",
        "            if i > n_generated_samples:\n",
        "                break"
      ],
      "metadata": {
        "id": "NDvYvwCwkZfY"
      },
      "execution_count": 6,
      "outputs": []
    },
    {
      "cell_type": "code",
      "source": [
        "             \n",
        "start_time= time.time()\n",
        "\n",
        "augmented_data_path ='/content/drive/MyDrive/ibm/Augmentation data'\n",
        "\n",
        "augment_data(file_dir='/content/Digital Naturalist Dataset/Bird/Great Indian Bustard Bird', n_generated_samples=42, save_to_dir=augmented_data_path+'/Bird/GIB_AUG')\n",
        "augment_data(file_dir='/content/Digital Naturalist Dataset/Bird/Spoon Billed Sandpiper Bird', n_generated_samples=42, save_to_dir=augmented_data_path+'/Bird/SPS_AGU')\n",
        "\n",
        "augment_data(file_dir='/content/Digital Naturalist Dataset/Flower/Corpse Flower', n_generated_samples=49, save_to_dir=augmented_data_path+'/Flower/Cropse_AUG')\n",
        "augment_data(file_dir='/content/Digital Naturalist Dataset/Flower/Lady Slipper Orchid Flower', n_generated_samples=49, save_to_dir=augmented_data_path+'/Flower/LS_Orchid_AUG')\n",
        "\n",
        "augment_data(file_dir='/content/Digital Naturalist Dataset/Mammal/Pangolin Mammal', n_generated_samples=47, save_to_dir=augmented_data_path+'/Mammal/Pangolin_AUG')\n",
        "augment_data(file_dir='/content/Digital Naturalist Dataset/Mammal/Senenca White Deer Mammal', n_generated_samples=47, save_to_dir=augmented_data_path+'/Mammal/SW_Deer_AUG')\n",
        "\n",
        "end_time = time.time()\n",
        "execution_time =(end_time - start_time)\n",
        "print(f\"elapsed time: {hms_string(execution_time)}\")"
      ],
      "metadata": {
        "colab": {
          "base_uri": "https://localhost:8080/"
        },
        "id": "VM0HNUeakbb6",
        "outputId": "361a45b2-7934-48b3-83f5-f58c49337f80"
      },
      "execution_count": 7,
      "outputs": [
        {
          "output_type": "stream",
          "name": "stdout",
          "text": [
            "elapsed time: 0: 5: 27.8\n"
          ]
        }
      ]
    },
    {
      "cell_type": "markdown",
      "source": [
        "**Libraries**"
      ],
      "metadata": {
        "id": "iGV9E-EHMenB"
      }
    },
    {
      "cell_type": "code",
      "source": [
        "import numpy as np\n",
        "\n",
        "#Importing libraries required for the model\n",
        "import tensorflow as tf\n",
        "import keras\n",
        "import keras.backend as K\n",
        "\n",
        "from keras.optimizers import SGD, Adam, Adagrad, RMSprop \n",
        "from keras.applications import*\n",
        "from keras.preprocessing import*\n",
        "import cv2\n",
        "from tensorflow.keras.preprocessing.image import ImageDataGenerator, array_to_img, img_to_array, load_img \n",
        "from keras.callbacks import EarlyStopping, ModelCheckpoint \n",
        "from keras.models import Sequential\n",
        "from keras.layers import Dense, Conv2D, MaxPool2D, Flatten, Activation, BatchNormalization, Dropout \n",
        "from keras.utils.np_utils import to_categorical\n",
        "from tensorflow.keras.preprocessing.image import ImageDataGenerator as idm\n",
        "from sklearn.model_selection import train_test_split\n",
        "\n",
        "#For plotting charts used for data visualizations \n",
        "import matplotlib.pyplot as plt\n",
        "\n",
        "#Libraries for Locating and loading data\n",
        "import glob\n",
        "from PIL import Image\n",
        "import os\n",
        "from os import listdir\n",
        "\n",
        "import warnings"
      ],
      "metadata": {
        "id": "bUaxM5KkpEZG"
      },
      "execution_count": 8,
      "outputs": []
    },
    {
      "cell_type": "markdown",
      "source": [
        "**Make a list of path to all folders where you have the data**"
      ],
      "metadata": {
        "id": "bWz57SZvQEbB"
      }
    },
    {
      "cell_type": "code",
      "source": [
        "#Setting path to our dataset folder \n",
        "dirName = '/content/drive/MyDrive/ibm/Augmentation data'\n",
        "folders = listdir(dirName)\n",
        "#Getting the names for all the folders containing data \n",
        "def getListOfDrive (dirName): \n",
        "  # create a list of sub directories and files (if any)\n",
        "# names in the given directory\n",
        "  ListOfDrive = os.listdir (dirName)\n",
        "  allDrive = list()\n",
        "  for fol_name in ListOfDrive: \n",
        "    fullPath = os.path.join(dirName, fol_name)\n",
        "    allDrive.append(fullPath)\n",
        "  \n",
        "  return allDrive\n",
        "\n",
        "Folders = getListOfDrive(dirName)\n",
        "len(Folders)\n",
        "subfolders = []\n",
        "for num in range(len (Folders)):\n",
        "    sub_fols = getListOfDrive(Folders [num]) \n",
        "    subfolders+=sub_fols \n",
        "#Now, the subfolders contains the address to all our data folders for each class\n",
        "subfolders"
      ],
      "metadata": {
        "colab": {
          "base_uri": "https://localhost:8080/"
        },
        "id": "VuWVq-dgq9JM",
        "outputId": "87b6ce46-55c1-40f7-c705-e87b6f150bce"
      },
      "execution_count": 9,
      "outputs": [
        {
          "output_type": "execute_result",
          "data": {
            "text/plain": [
              "['/content/drive/MyDrive/ibm/Augmentation data/Bird/SPS_AGU',\n",
              " '/content/drive/MyDrive/ibm/Augmentation data/Bird/GIB_AUG',\n",
              " '/content/drive/MyDrive/ibm/Augmentation data/Flower/LS_Orchid_AUG',\n",
              " '/content/drive/MyDrive/ibm/Augmentation data/Flower/Cropse_AUG',\n",
              " '/content/drive/MyDrive/ibm/Augmentation data/Mammal/SW_Deer_AUG',\n",
              " '/content/drive/MyDrive/ibm/Augmentation data/Mammal/Pangolin_AUG']"
            ]
          },
          "metadata": {},
          "execution_count": 9
        }
      ]
    },
    {
      "cell_type": "markdown",
      "source": [
        "**Loading images into machine understandable data**"
      ],
      "metadata": {
        "id": "nFwg1zmO6m4H"
      }
    },
    {
      "cell_type": "code",
      "source": [
        "X_data = []\n",
        "Y_data = []\n",
        "\n",
        "id_no = 0\n",
        "found = []\n",
        "for paths in subfolders:\n",
        "  drive = glob.glob ('/content/drive/MyDrive/ibm/Augmentation data/*.jpg')\n",
        "  found.append((paths.split('//')[-1], paths.split('//')[-1]))\n",
        "\n",
        "  for MyDrive in drive:\n",
        "    img = Image.open (MyDrive)\n",
        "    img =img.resize(( 150, 150), Image.ANTIALIAS)\n",
        "    img = np.array(img)\n",
        "    if img.shape == ( 150, 150, 3):\n",
        "      X_data.append (img)\n",
        "      Y_data.append (id_no)\n",
        "id_no+= 1"
      ],
      "metadata": {
        "id": "8cF-I8N0rKqV"
      },
      "execution_count": 10,
      "outputs": []
    },
    {
      "cell_type": "markdown",
      "source": [
        "**Data Spliting into Train and Test**"
      ],
      "metadata": {
        "id": "Qbo08Zw710bs"
      }
    },
    {
      "cell_type": "code",
      "source": [
        "train_datagen = ImageDataGenerator(rescale=1./255, shear_range = 0.2, zoom_range=0.2 ,horizontal_flip= True, vertical_flip=True)\n"
      ],
      "metadata": {
        "id": "RTg1xFQA0LV2"
      },
      "execution_count": 11,
      "outputs": []
    },
    {
      "cell_type": "code",
      "source": [
        "test_datagen = ImageDataGenerator(rescale=1./255)"
      ],
      "metadata": {
        "id": "r8q5xCpJ18iI"
      },
      "execution_count": 12,
      "outputs": []
    },
    {
      "cell_type": "code",
      "source": [
        "X_train = train_datagen.flow_from_directory(r\"/content/Digital Naturalist Dataset\",target_size=(64,64), batch_size=32, class_mode=\"categorical\")"
      ],
      "metadata": {
        "colab": {
          "base_uri": "https://localhost:8080/"
        },
        "id": "NRB71TQA2SFo",
        "outputId": "3bf30b92-2d8f-42ee-c443-fbb08eaec51e"
      },
      "execution_count": 13,
      "outputs": [
        {
          "output_type": "stream",
          "name": "stdout",
          "text": [
            "Found 138 images belonging to 3 classes.\n"
          ]
        }
      ]
    },
    {
      "cell_type": "code",
      "source": [
        "X_test = test_datagen.flow_from_directory(r\"/content/Digital Naturalist Dataset\",target_size=(64,64), batch_size=32, class_mode=\"categorical\")"
      ],
      "metadata": {
        "colab": {
          "base_uri": "https://localhost:8080/"
        },
        "id": "Tm_YRlpA20BX",
        "outputId": "76d57101-56a0-4775-d8f0-3f5eace859b6"
      },
      "execution_count": 14,
      "outputs": [
        {
          "output_type": "stream",
          "name": "stdout",
          "text": [
            "Found 138 images belonging to 3 classes.\n"
          ]
        }
      ]
    },
    {
      "cell_type": "code",
      "source": [
        "X_train.class_indices"
      ],
      "metadata": {
        "colab": {
          "base_uri": "https://localhost:8080/"
        },
        "id": "J_yzrUZI4Z4u",
        "outputId": "936b48bf-ae1f-444d-dcf9-2a351cef1b51"
      },
      "execution_count": 15,
      "outputs": [
        {
          "output_type": "execute_result",
          "data": {
            "text/plain": [
              "{'Bird': 0, 'Flower': 1, 'Mammal': 2}"
            ]
          },
          "metadata": {},
          "execution_count": 15
        }
      ]
    }
  ]
}