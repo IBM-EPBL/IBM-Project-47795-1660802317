{
  "nbformat": 4,
  "nbformat_minor": 0,
  "metadata": {
    "colab": {
      "provenance": []
    },
    "kernelspec": {
      "name": "python3",
      "display_name": "Python 3"
    },
    "language_info": {
      "name": "python"
    }
  },
  "cells": [
    {
      "cell_type": "markdown",
      "source": [
        "**dataset.h5**"
      ],
      "metadata": {
        "id": "_lBoofkK7y4W"
      }
    },
    {
      "cell_type": "code",
      "execution_count": null,
      "metadata": {
        "id": "T1r7hzEg7xlb"
      },
      "outputs": [],
      "source": [
        "https://drive.google.com/file/d/1TYTMdk7a5JWOwFq7-95nUH959w8s5CmW/view?usp=share_link"
      ]
    }
  ]
}