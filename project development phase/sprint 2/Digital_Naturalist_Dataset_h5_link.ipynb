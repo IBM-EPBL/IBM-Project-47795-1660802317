{
  "nbformat": 4,
  "nbformat_minor": 0,
  "metadata": {
    "colab": {
      "provenance": [],
      "collapsed_sections": []
    },
    "kernelspec": {
      "name": "python3",
      "display_name": "Python 3"
    },
    "language_info": {
      "name": "python"
    }
  },
  "cells": [
    {
      "cell_type": "code",
      "source": [
        "https://drive.google.com/file/d/1eB88QrGHU6iEMtE6Q2HhMirQpKO37lcE/view?usp=share_link"
      ],
      "metadata": {
        "id": "UXPaDLMfeNNG"
      },
      "execution_count": null,
      "outputs": []
    }
  ]
}