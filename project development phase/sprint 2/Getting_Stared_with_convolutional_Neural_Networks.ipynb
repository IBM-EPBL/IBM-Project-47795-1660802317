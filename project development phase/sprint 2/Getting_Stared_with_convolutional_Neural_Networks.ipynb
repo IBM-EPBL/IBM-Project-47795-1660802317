{
  "nbformat": 4,
  "nbformat_minor": 0,
  "metadata": {
    "colab": {
      "provenance": [],
      "collapsed_sections": []
    },
    "kernelspec": {
      "name": "python3",
      "display_name": "Python 3"
    },
    "language_info": {
      "name": "python"
    }
  },
  "cells": [
    {
      "cell_type": "code",
      "execution_count": 1,
      "metadata": {
        "colab": {
          "base_uri": "https://localhost:8080/"
        },
        "id": "LYGlIJ_OjDpE",
        "outputId": "3b58cd01-5da6-4599-ffd0-26501189d5b5"
      },
      "outputs": [
        {
          "output_type": "stream",
          "name": "stdout",
          "text": [
            "Drive already mounted at /content/drive; to attempt to forcibly remount, call drive.mount(\"/content/drive\", force_remount=True).\n"
          ]
        }
      ],
      "source": [
        "from google.colab import drive\n",
        "drive.mount('/content/drive')"
      ]
    },
    {
      "cell_type": "code",
      "source": [
        "!unzip \"/content/drive/MyDrive/ibm/Digital Naturalist Dataset.zip\""
      ],
      "metadata": {
        "colab": {
          "base_uri": "https://localhost:8080/"
        },
        "id": "gKEx4sbtjffr",
        "outputId": "6131ac7e-db5b-4637-e8e9-b678dad52b34"
      },
      "execution_count": 2,
      "outputs": [
        {
          "output_type": "stream",
          "name": "stdout",
          "text": [
            "Archive:  /content/drive/MyDrive/ibm/Digital Naturalist Dataset.zip\n",
            "   creating: Digital Naturalist Dataset/\n",
            "   creating: Digital Naturalist Dataset/Bird/\n",
            "   creating: Digital Naturalist Dataset/Bird/Great Indian Bustard Bird/\n",
            "  inflating: Digital Naturalist Dataset/Bird/Great Indian Bustard Bird/download (1).jpg  \n",
            "  inflating: Digital Naturalist Dataset/Bird/Great Indian Bustard Bird/download (10).jpg  \n",
            "  inflating: Digital Naturalist Dataset/Bird/Great Indian Bustard Bird/download (11).jpg  \n",
            "  inflating: Digital Naturalist Dataset/Bird/Great Indian Bustard Bird/download (2).jpg  \n",
            "  inflating: Digital Naturalist Dataset/Bird/Great Indian Bustard Bird/download (3).jpg  \n",
            "  inflating: Digital Naturalist Dataset/Bird/Great Indian Bustard Bird/download (4).jpg  \n",
            "  inflating: Digital Naturalist Dataset/Bird/Great Indian Bustard Bird/download (5).jpg  \n",
            "  inflating: Digital Naturalist Dataset/Bird/Great Indian Bustard Bird/download (6).jpg  \n",
            "  inflating: Digital Naturalist Dataset/Bird/Great Indian Bustard Bird/download (7).jpg  \n",
            "  inflating: Digital Naturalist Dataset/Bird/Great Indian Bustard Bird/download (8).jpg  \n",
            "  inflating: Digital Naturalist Dataset/Bird/Great Indian Bustard Bird/download (9).jpg  \n",
            "  inflating: Digital Naturalist Dataset/Bird/Great Indian Bustard Bird/download.jpg  \n",
            " extracting: Digital Naturalist Dataset/Bird/Great Indian Bustard Bird/greatindianbustard-kRDC--621x414@LiveMint.webp  \n",
            "  inflating: Digital Naturalist Dataset/Bird/Great Indian Bustard Bird/images (1).jpg  \n",
            "  inflating: Digital Naturalist Dataset/Bird/Great Indian Bustard Bird/images (2).jpg  \n",
            "  inflating: Digital Naturalist Dataset/Bird/Great Indian Bustard Bird/images (3).jpg  \n",
            "  inflating: Digital Naturalist Dataset/Bird/Great Indian Bustard Bird/images (4).jpg  \n",
            "  inflating: Digital Naturalist Dataset/Bird/Great Indian Bustard Bird/images (5).jpg  \n",
            "  inflating: Digital Naturalist Dataset/Bird/Great Indian Bustard Bird/images (6).jpg  \n",
            "  inflating: Digital Naturalist Dataset/Bird/Great Indian Bustard Bird/images (7).jpg  \n",
            "  inflating: Digital Naturalist Dataset/Bird/Great Indian Bustard Bird/images (8).jpg  \n",
            "  inflating: Digital Naturalist Dataset/Bird/Great Indian Bustard Bird/images.jpg  \n",
            "   creating: Digital Naturalist Dataset/Bird/Spoon Billed Sandpiper Bird/\n",
            "  inflating: Digital Naturalist Dataset/Bird/Spoon Billed Sandpiper Bird/download (1).jpg  \n",
            "  inflating: Digital Naturalist Dataset/Bird/Spoon Billed Sandpiper Bird/download (12).jpg  \n",
            "  inflating: Digital Naturalist Dataset/Bird/Spoon Billed Sandpiper Bird/download (2).jpg  \n",
            "  inflating: Digital Naturalist Dataset/Bird/Spoon Billed Sandpiper Bird/download (3).jpg  \n",
            "  inflating: Digital Naturalist Dataset/Bird/Spoon Billed Sandpiper Bird/download (4).jpg  \n",
            "  inflating: Digital Naturalist Dataset/Bird/Spoon Billed Sandpiper Bird/download (5).jpg  \n",
            "  inflating: Digital Naturalist Dataset/Bird/Spoon Billed Sandpiper Bird/download (6).jpg  \n",
            "  inflating: Digital Naturalist Dataset/Bird/Spoon Billed Sandpiper Bird/download (7).jpg  \n",
            "  inflating: Digital Naturalist Dataset/Bird/Spoon Billed Sandpiper Bird/download.jpg  \n",
            "  inflating: Digital Naturalist Dataset/Bird/Spoon Billed Sandpiper Bird/images (1).jpg  \n",
            "  inflating: Digital Naturalist Dataset/Bird/Spoon Billed Sandpiper Bird/images (10).jpg  \n",
            "  inflating: Digital Naturalist Dataset/Bird/Spoon Billed Sandpiper Bird/images (11).jpg  \n",
            "  inflating: Digital Naturalist Dataset/Bird/Spoon Billed Sandpiper Bird/images (2).jpg  \n",
            "  inflating: Digital Naturalist Dataset/Bird/Spoon Billed Sandpiper Bird/images (3).jpg  \n",
            "  inflating: Digital Naturalist Dataset/Bird/Spoon Billed Sandpiper Bird/images (4).jpg  \n",
            "  inflating: Digital Naturalist Dataset/Bird/Spoon Billed Sandpiper Bird/images (5).jpg  \n",
            "  inflating: Digital Naturalist Dataset/Bird/Spoon Billed Sandpiper Bird/images (6).jpg  \n",
            "  inflating: Digital Naturalist Dataset/Bird/Spoon Billed Sandpiper Bird/images (7).jpg  \n",
            "  inflating: Digital Naturalist Dataset/Bird/Spoon Billed Sandpiper Bird/images (8).jpg  \n",
            "  inflating: Digital Naturalist Dataset/Bird/Spoon Billed Sandpiper Bird/images (9).jpg  \n",
            "  inflating: Digital Naturalist Dataset/Bird/Spoon Billed Sandpiper Bird/images.jpg  \n",
            "   creating: Digital Naturalist Dataset/Flower/\n",
            "   creating: Digital Naturalist Dataset/Flower/Corpse Flower/\n",
            "  inflating: Digital Naturalist Dataset/Flower/Corpse Flower/download (1).jpg  \n",
            "  inflating: Digital Naturalist Dataset/Flower/Corpse Flower/download (11).jpg  \n",
            "  inflating: Digital Naturalist Dataset/Flower/Corpse Flower/download (2).jpg  \n",
            "  inflating: Digital Naturalist Dataset/Flower/Corpse Flower/download (3).jpg  \n",
            "  inflating: Digital Naturalist Dataset/Flower/Corpse Flower/download (4).jpg  \n",
            "  inflating: Digital Naturalist Dataset/Flower/Corpse Flower/download (5).jpg  \n",
            "  inflating: Digital Naturalist Dataset/Flower/Corpse Flower/download.jpg  \n",
            "  inflating: Digital Naturalist Dataset/Flower/Corpse Flower/images (1).jpg  \n",
            "  inflating: Digital Naturalist Dataset/Flower/Corpse Flower/images (10).jpg  \n",
            "  inflating: Digital Naturalist Dataset/Flower/Corpse Flower/images (11).jpg  \n",
            "  inflating: Digital Naturalist Dataset/Flower/Corpse Flower/images (12).jpg  \n",
            "  inflating: Digital Naturalist Dataset/Flower/Corpse Flower/images (13).jpg  \n",
            "  inflating: Digital Naturalist Dataset/Flower/Corpse Flower/images (14).jpg  \n",
            "  inflating: Digital Naturalist Dataset/Flower/Corpse Flower/images (15).jpg  \n",
            "  inflating: Digital Naturalist Dataset/Flower/Corpse Flower/images (16).jpg  \n",
            " extracting: Digital Naturalist Dataset/Flower/Corpse Flower/images (17).jpg  \n",
            "  inflating: Digital Naturalist Dataset/Flower/Corpse Flower/images (2).jpg  \n",
            "  inflating: Digital Naturalist Dataset/Flower/Corpse Flower/images (3).jpg  \n",
            "  inflating: Digital Naturalist Dataset/Flower/Corpse Flower/images (4).jpg  \n",
            "  inflating: Digital Naturalist Dataset/Flower/Corpse Flower/images (5).jpg  \n",
            "  inflating: Digital Naturalist Dataset/Flower/Corpse Flower/images (6).jpg  \n",
            "  inflating: Digital Naturalist Dataset/Flower/Corpse Flower/images (7).jpg  \n",
            "  inflating: Digital Naturalist Dataset/Flower/Corpse Flower/images (8).jpg  \n",
            "  inflating: Digital Naturalist Dataset/Flower/Corpse Flower/images (9).jpg  \n",
            " extracting: Digital Naturalist Dataset/Flower/Corpse Flower/images.jpg  \n",
            "   creating: Digital Naturalist Dataset/Flower/Lady Slipper Orchid Flower/\n",
            "  inflating: Digital Naturalist Dataset/Flower/Lady Slipper Orchid Flower/download (1).jpg  \n",
            "  inflating: Digital Naturalist Dataset/Flower/Lady Slipper Orchid Flower/download (10).jpg  \n",
            "  inflating: Digital Naturalist Dataset/Flower/Lady Slipper Orchid Flower/download (2).jpg  \n",
            "  inflating: Digital Naturalist Dataset/Flower/Lady Slipper Orchid Flower/download (3).jpg  \n",
            "  inflating: Digital Naturalist Dataset/Flower/Lady Slipper Orchid Flower/download (4).jpg  \n",
            "  inflating: Digital Naturalist Dataset/Flower/Lady Slipper Orchid Flower/download (5).jpg  \n",
            "  inflating: Digital Naturalist Dataset/Flower/Lady Slipper Orchid Flower/download (6).jpg  \n",
            "  inflating: Digital Naturalist Dataset/Flower/Lady Slipper Orchid Flower/download (7).jpg  \n",
            "  inflating: Digital Naturalist Dataset/Flower/Lady Slipper Orchid Flower/download (8).jpg  \n",
            "  inflating: Digital Naturalist Dataset/Flower/Lady Slipper Orchid Flower/download (9).jpg  \n",
            "  inflating: Digital Naturalist Dataset/Flower/Lady Slipper Orchid Flower/download.jpg  \n",
            "  inflating: Digital Naturalist Dataset/Flower/Lady Slipper Orchid Flower/images (1).jpg  \n",
            "  inflating: Digital Naturalist Dataset/Flower/Lady Slipper Orchid Flower/images (10).jpg  \n",
            "  inflating: Digital Naturalist Dataset/Flower/Lady Slipper Orchid Flower/images (11).jpg  \n",
            "  inflating: Digital Naturalist Dataset/Flower/Lady Slipper Orchid Flower/images (12).jpg  \n",
            "  inflating: Digital Naturalist Dataset/Flower/Lady Slipper Orchid Flower/images (2).jpg  \n",
            "  inflating: Digital Naturalist Dataset/Flower/Lady Slipper Orchid Flower/images (3).jpg  \n",
            "  inflating: Digital Naturalist Dataset/Flower/Lady Slipper Orchid Flower/images (4).jpg  \n",
            "  inflating: Digital Naturalist Dataset/Flower/Lady Slipper Orchid Flower/images (5).jpg  \n",
            "  inflating: Digital Naturalist Dataset/Flower/Lady Slipper Orchid Flower/images (6).jpg  \n",
            "  inflating: Digital Naturalist Dataset/Flower/Lady Slipper Orchid Flower/images (7).jpg  \n",
            "  inflating: Digital Naturalist Dataset/Flower/Lady Slipper Orchid Flower/images (8).jpg  \n",
            "  inflating: Digital Naturalist Dataset/Flower/Lady Slipper Orchid Flower/images (9).jpg  \n",
            "  inflating: Digital Naturalist Dataset/Flower/Lady Slipper Orchid Flower/images.jpg  \n",
            "   creating: Digital Naturalist Dataset/Mammal/\n",
            "   creating: Digital Naturalist Dataset/Mammal/Pangolin Mammal/\n",
            "  inflating: Digital Naturalist Dataset/Mammal/Pangolin Mammal/download (1).jpg  \n",
            "  inflating: Digital Naturalist Dataset/Mammal/Pangolin Mammal/download (2).jpg  \n",
            "  inflating: Digital Naturalist Dataset/Mammal/Pangolin Mammal/download (3).jpg  \n",
            "  inflating: Digital Naturalist Dataset/Mammal/Pangolin Mammal/download (4).jpg  \n",
            " extracting: Digital Naturalist Dataset/Mammal/Pangolin Mammal/download (5).jpg  \n",
            "  inflating: Digital Naturalist Dataset/Mammal/Pangolin Mammal/download (6).jpg  \n",
            "  inflating: Digital Naturalist Dataset/Mammal/Pangolin Mammal/download (8).jpg  \n",
            "  inflating: Digital Naturalist Dataset/Mammal/Pangolin Mammal/download.jpg  \n",
            "  inflating: Digital Naturalist Dataset/Mammal/Pangolin Mammal/images (1).jpg  \n",
            "  inflating: Digital Naturalist Dataset/Mammal/Pangolin Mammal/images (10).jpg  \n",
            "  inflating: Digital Naturalist Dataset/Mammal/Pangolin Mammal/images (11).jpg  \n",
            "  inflating: Digital Naturalist Dataset/Mammal/Pangolin Mammal/images (12).jpg  \n",
            "  inflating: Digital Naturalist Dataset/Mammal/Pangolin Mammal/images (13).jpg  \n",
            "  inflating: Digital Naturalist Dataset/Mammal/Pangolin Mammal/images (14).jpg  \n",
            "  inflating: Digital Naturalist Dataset/Mammal/Pangolin Mammal/images (15).jpg  \n",
            "  inflating: Digital Naturalist Dataset/Mammal/Pangolin Mammal/images (16).jpg  \n",
            "  inflating: Digital Naturalist Dataset/Mammal/Pangolin Mammal/images (2).jpg  \n",
            "  inflating: Digital Naturalist Dataset/Mammal/Pangolin Mammal/images (3).jpg  \n",
            "  inflating: Digital Naturalist Dataset/Mammal/Pangolin Mammal/images (4).jpg  \n",
            "  inflating: Digital Naturalist Dataset/Mammal/Pangolin Mammal/images (5).jpg  \n",
            "  inflating: Digital Naturalist Dataset/Mammal/Pangolin Mammal/images (6).jpg  \n",
            "  inflating: Digital Naturalist Dataset/Mammal/Pangolin Mammal/images (7).jpg  \n",
            "  inflating: Digital Naturalist Dataset/Mammal/Pangolin Mammal/images (8).jpg  \n",
            "  inflating: Digital Naturalist Dataset/Mammal/Pangolin Mammal/images (9).jpg  \n",
            "  inflating: Digital Naturalist Dataset/Mammal/Pangolin Mammal/images.jpg  \n",
            "   creating: Digital Naturalist Dataset/Mammal/Senenca White Deer Mammal/\n",
            "  inflating: Digital Naturalist Dataset/Mammal/Senenca White Deer Mammal/download (1).jpg  \n",
            "  inflating: Digital Naturalist Dataset/Mammal/Senenca White Deer Mammal/download (2).jpg  \n",
            "  inflating: Digital Naturalist Dataset/Mammal/Senenca White Deer Mammal/download (3).jpg  \n",
            "  inflating: Digital Naturalist Dataset/Mammal/Senenca White Deer Mammal/download (7).jpg  \n",
            "  inflating: Digital Naturalist Dataset/Mammal/Senenca White Deer Mammal/download.jpg  \n",
            "  inflating: Digital Naturalist Dataset/Mammal/Senenca White Deer Mammal/images (1).jpg  \n",
            "  inflating: Digital Naturalist Dataset/Mammal/Senenca White Deer Mammal/images (10).jpg  \n",
            "  inflating: Digital Naturalist Dataset/Mammal/Senenca White Deer Mammal/images (11).jpg  \n",
            "  inflating: Digital Naturalist Dataset/Mammal/Senenca White Deer Mammal/images (12).jpg  \n",
            "  inflating: Digital Naturalist Dataset/Mammal/Senenca White Deer Mammal/images (13).jpg  \n",
            "  inflating: Digital Naturalist Dataset/Mammal/Senenca White Deer Mammal/images (14).jpg  \n",
            "  inflating: Digital Naturalist Dataset/Mammal/Senenca White Deer Mammal/images (15).jpg  \n",
            "  inflating: Digital Naturalist Dataset/Mammal/Senenca White Deer Mammal/images (16).jpg  \n",
            "  inflating: Digital Naturalist Dataset/Mammal/Senenca White Deer Mammal/images (2).jpg  \n",
            "  inflating: Digital Naturalist Dataset/Mammal/Senenca White Deer Mammal/images (3).jpg  \n",
            "  inflating: Digital Naturalist Dataset/Mammal/Senenca White Deer Mammal/images (4).jpg  \n",
            "  inflating: Digital Naturalist Dataset/Mammal/Senenca White Deer Mammal/images (5).jpg  \n",
            "  inflating: Digital Naturalist Dataset/Mammal/Senenca White Deer Mammal/images (6).jpg  \n",
            "  inflating: Digital Naturalist Dataset/Mammal/Senenca White Deer Mammal/images (7).jpg  \n",
            "  inflating: Digital Naturalist Dataset/Mammal/Senenca White Deer Mammal/images (8).jpg  \n",
            "  inflating: Digital Naturalist Dataset/Mammal/Senenca White Deer Mammal/images (9).jpg  \n",
            "  inflating: Digital Naturalist Dataset/Mammal/Senenca White Deer Mammal/images.jpg  \n"
          ]
        }
      ]
    },
    {
      "cell_type": "code",
      "source": [
        "cd /content/Digital Naturalist Dataset"
      ],
      "metadata": {
        "colab": {
          "base_uri": "https://localhost:8080/"
        },
        "id": "kSaqwF-PjxUp",
        "outputId": "9d8c849b-bf3e-4ba3-f13e-a51b88c6b5d9"
      },
      "execution_count": 3,
      "outputs": [
        {
          "output_type": "stream",
          "name": "stdout",
          "text": [
            "/content/Digital Naturalist Dataset\n"
          ]
        }
      ]
    },
    {
      "cell_type": "code",
      "source": [
        "ls"
      ],
      "metadata": {
        "colab": {
          "base_uri": "https://localhost:8080/"
        },
        "id": "ffnfqpIskBgK",
        "outputId": "e4c11c84-96d4-4b1b-8191-67dc4bf71ddd"
      },
      "execution_count": 4,
      "outputs": [
        {
          "output_type": "stream",
          "name": "stdout",
          "text": [
            "\u001b[0m\u001b[01;34mBird\u001b[0m/  \u001b[01;34mFlower\u001b[0m/  \u001b[01;34mMammal\u001b[0m/\n"
          ]
        }
      ]
    },
    {
      "cell_type": "markdown",
      "source": [
        " **DataAugmantation**"
      ],
      "metadata": {
        "id": "CIQuBdWBMKFD"
      }
    },
    {
      "cell_type": "code",
      "source": [
        "from keras.preprocessing.image import ImageDataGenerator\n",
        "import cv2\n",
        "from os import listdir\n",
        "import time"
      ],
      "metadata": {
        "id": "ENCkewrNkE3N"
      },
      "execution_count": null,
      "outputs": []
    },
    {
      "cell_type": "code",
      "source": [
        "def hms_string (sec_elapsed):\n",
        "  h = int(sec_elapsed / (60 * 60))\n",
        "  m = int((sec_elapsed % (60*60)) / 60)\n",
        "  S = sec_elapsed % 60\n",
        "  return f\"{h}: {m}: {round (S,1)}\"\n",
        "def augment_data( file_dir, n_generated_samples, save_to_dir):\n",
        "  data_gen = ImageDataGenerator (rotation_range=30,\n",
        "                                 width_shift_range=0.1,\n",
        "                                 height_shift_range=0.15,\n",
        "                                 shear_range=0.25,\n",
        "                                 zoom_range = 0.2,\n",
        "                                 horizontal_flip=True,\n",
        "                                 vertical_flip=False,\n",
        "                                 fill_mode='nearest',\n",
        "                                 brightness_range=(0.5,1.2))\n",
        "  for filename in listdir(file_dir):\n",
        "        image = cv2.imread(file_dir + '/' + filename)\n",
        "        image = cv2.cvtColor(image,cv2.COLOR_BGR2RGB)\n",
        "        image = image.reshape((1,)+image.shape)\n",
        "        save_prefix = 'aug_' + filename[:-4]    \n",
        "        i=0\n",
        "        for batch in data_gen.flow(x=image, batch_size=1, save_to_dir=save_to_dir,\n",
        "                                   save_prefix=save_prefix, save_format='jpg'):\n",
        "            i += 1\n",
        "            if i > n_generated_samples:\n",
        "                break"
      ],
      "metadata": {
        "id": "NDvYvwCwkZfY"
      },
      "execution_count": 6,
      "outputs": []
    },
    {
      "cell_type": "code",
      "source": [
        "             \n",
        "start_time= time.time()\n",
        "\n",
        "augmented_data_path ='/content/drive/MyDrive/ibm/Augmentation data'\n",
        "\n",
        "augment_data(file_dir='/content/Digital Naturalist Dataset/Bird/Great Indian Bustard Bird', n_generated_samples=42, save_to_dir=augmented_data_path+'/Bird/GIB_AUG')\n",
        "augment_data(file_dir='/content/Digital Naturalist Dataset/Bird/Spoon Billed Sandpiper Bird', n_generated_samples=42, save_to_dir=augmented_data_path+'/Bird/SPS_AGU')\n",
        "\n",
        "augment_data(file_dir='/content/Digital Naturalist Dataset/Flower/Corpse Flower', n_generated_samples=49, save_to_dir=augmented_data_path+'/Flower/Cropse_AUG')\n",
        "augment_data(file_dir='/content/Digital Naturalist Dataset/Flower/Lady Slipper Orchid Flower', n_generated_samples=49, save_to_dir=augmented_data_path+'/Flower/LS_Orchid_AUG')\n",
        "\n",
        "augment_data(file_dir='/content/Digital Naturalist Dataset/Mammal/Pangolin Mammal', n_generated_samples=47, save_to_dir=augmented_data_path+'/Mammal/Pangolin_AUG')\n",
        "augment_data(file_dir='/content/Digital Naturalist Dataset/Mammal/Senenca White Deer Mammal', n_generated_samples=47, save_to_dir=augmented_data_path+'/Mammal/SW_Deer_AUG')\n",
        "\n",
        "end_time = time.time()\n",
        "execution_time =(end_time - start_time)\n",
        "print(f\"elapsed time: {hms_string(execution_time)}\")"
      ],
      "metadata": {
        "colab": {
          "base_uri": "https://localhost:8080/"
        },
        "id": "VM0HNUeakbb6",
        "outputId": "361a45b2-7934-48b3-83f5-f58c49337f80"
      },
      "execution_count": 7,
      "outputs": [
        {
          "output_type": "stream",
          "name": "stdout",
          "text": [
            "elapsed time: 0: 5: 27.8\n"
          ]
        }
      ]
    },
    {
      "cell_type": "markdown",
      "source": [
        "**Libraries**"
      ],
      "metadata": {
        "id": "iGV9E-EHMenB"
      }
    },
    {
      "cell_type": "code",
      "source": [
        "import numpy as np\n",
        "\n",
        "#Importing libraries required for the model\n",
        "import tensorflow as tf\n",
        "import keras\n",
        "import keras.backend as K\n",
        "\n",
        "from keras.optimizers import SGD, Adam, Adagrad, RMSprop \n",
        "from keras.applications import*\n",
        "from keras.preprocessing import*\n",
        "import cv2\n",
        "from tensorflow.keras.preprocessing.image import ImageDataGenerator, array_to_img, img_to_array, load_img \n",
        "from keras.callbacks import EarlyStopping, ModelCheckpoint \n",
        "from keras.models import Sequential\n",
        "from keras.layers import Dense, Conv2D, MaxPool2D, Flatten, Activation, BatchNormalization, Dropout \n",
        "from keras.utils.np_utils import to_categorical\n",
        "from tensorflow.keras.preprocessing.image import ImageDataGenerator as idm\n",
        "from sklearn.model_selection import train_test_split\n",
        "\n",
        "#For plotting charts used for data visualizations \n",
        "import matplotlib.pyplot as plt\n",
        "\n",
        "#Libraries for Locating and loading data\n",
        "import glob\n",
        "from PIL import Image\n",
        "import os\n",
        "from os import listdir\n",
        "\n",
        "import warnings"
      ],
      "metadata": {
        "id": "bUaxM5KkpEZG"
      },
      "execution_count": 8,
      "outputs": []
    },
    {
      "cell_type": "markdown",
      "source": [
        "**Make a list of path to all folders where you have the data**"
      ],
      "metadata": {
        "id": "bWz57SZvQEbB"
      }
    },
    {
      "cell_type": "code",
      "source": [
        "#Setting path to our dataset folder \n",
        "dirName = '/content/drive/MyDrive/ibm/Augmentation data'\n",
        "folders = listdir(dirName)\n",
        "#Getting the names for all the folders containing data \n",
        "def getListOfDrive (dirName): \n",
        "  # create a list of sub directories and files (if any)\n",
        "# names in the given directory\n",
        "  ListOfDrive = os.listdir (dirName)\n",
        "  allDrive = list()\n",
        "  for fol_name in ListOfDrive: \n",
        "    fullPath = os.path.join(dirName, fol_name)\n",
        "    allDrive.append(fullPath)\n",
        "  \n",
        "  return allDrive\n",
        "\n",
        "Folders = getListOfDrive(dirName)\n",
        "len(Folders)\n",
        "subfolders = []\n",
        "for num in range(len (Folders)):\n",
        "    sub_fols = getListOfDrive(Folders [num]) \n",
        "    subfolders+=sub_fols \n",
        "#Now, the subfolders contains the address to all our data folders for each class\n",
        "subfolders"
      ],
      "metadata": {
        "colab": {
          "base_uri": "https://localhost:8080/"
        },
        "id": "VuWVq-dgq9JM",
        "outputId": "87b6ce46-55c1-40f7-c705-e87b6f150bce"
      },
      "execution_count": 9,
      "outputs": [
        {
          "output_type": "execute_result",
          "data": {
            "text/plain": [
              "['/content/drive/MyDrive/ibm/Augmentation data/Bird/SPS_AGU',\n",
              " '/content/drive/MyDrive/ibm/Augmentation data/Bird/GIB_AUG',\n",
              " '/content/drive/MyDrive/ibm/Augmentation data/Flower/LS_Orchid_AUG',\n",
              " '/content/drive/MyDrive/ibm/Augmentation data/Flower/Cropse_AUG',\n",
              " '/content/drive/MyDrive/ibm/Augmentation data/Mammal/SW_Deer_AUG',\n",
              " '/content/drive/MyDrive/ibm/Augmentation data/Mammal/Pangolin_AUG']"
            ]
          },
          "metadata": {},
          "execution_count": 9
        }
      ]
    },
    {
      "cell_type": "markdown",
      "source": [
        "**Loading images into machine understandable data**"
      ],
      "metadata": {
        "id": "nFwg1zmO6m4H"
      }
    },
    {
      "cell_type": "code",
      "source": [
        "X_data = []\n",
        "Y_data = []\n",
        "\n",
        "id_no = 0\n",
        "found = []\n",
        "for paths in subfolders:\n",
        "  drive = glob.glob ('/content/drive/MyDrive/ibm/Augmentation data/*.jpg')\n",
        "  found.append((paths.split('//')[-1], paths.split('//')[-1]))\n",
        "\n",
        "  for MyDrive in drive:\n",
        "    img = Image.open (MyDrive)\n",
        "    img =img.resize(( 150, 150), Image.ANTIALIAS)\n",
        "    img = np.array(img)\n",
        "    if img.shape == ( 150, 150, 3):\n",
        "      X_data.append (img)\n",
        "      Y_data.append (id_no)\n",
        "id_no+= 1"
      ],
      "metadata": {
        "id": "8cF-I8N0rKqV"
      },
      "execution_count": 10,
      "outputs": []
    },
    {
      "cell_type": "markdown",
      "source": [
        "**Data Spliting into Train and Test**"
      ],
      "metadata": {
        "id": "Qbo08Zw710bs"
      }
    },
    {
      "cell_type": "code",
      "source": [
        "train_datagen = ImageDataGenerator(rescale=1./255, shear_range = 0.2, zoom_range=0.2 ,horizontal_flip= True, vertical_flip=True)\n"
      ],
      "metadata": {
        "id": "RTg1xFQA0LV2"
      },
      "execution_count": 11,
      "outputs": []
    },
    {
      "cell_type": "code",
      "source": [
        "test_datagen = ImageDataGenerator(rescale=1./255)"
      ],
      "metadata": {
        "id": "r8q5xCpJ18iI"
      },
      "execution_count": 12,
      "outputs": []
    },
    {
      "cell_type": "code",
      "source": [
        "X_train = train_datagen.flow_from_directory(r\"/content/Digital Naturalist Dataset\",target_size=(64,64), batch_size=32, class_mode=\"categorical\")"
      ],
      "metadata": {
        "colab": {
          "base_uri": "https://localhost:8080/"
        },
        "id": "NRB71TQA2SFo",
        "outputId": "3bf30b92-2d8f-42ee-c443-fbb08eaec51e"
      },
      "execution_count": 13,
      "outputs": [
        {
          "output_type": "stream",
          "name": "stdout",
          "text": [
            "Found 138 images belonging to 3 classes.\n"
          ]
        }
      ]
    },
    {
      "cell_type": "code",
      "source": [
        "X_test = test_datagen.flow_from_directory(r\"/content/Digital Naturalist Dataset\",target_size=(64,64), batch_size=32, class_mode=\"categorical\")"
      ],
      "metadata": {
        "colab": {
          "base_uri": "https://localhost:8080/"
        },
        "id": "Tm_YRlpA20BX",
        "outputId": "76d57101-56a0-4775-d8f0-3f5eace859b6"
      },
      "execution_count": 14,
      "outputs": [
        {
          "output_type": "stream",
          "name": "stdout",
          "text": [
            "Found 138 images belonging to 3 classes.\n"
          ]
        }
      ]
    },
    {
      "cell_type": "code",
      "source": [
        "X_train.class_indices"
      ],
      "metadata": {
        "colab": {
          "base_uri": "https://localhost:8080/"
        },
        "id": "J_yzrUZI4Z4u",
        "outputId": "936b48bf-ae1f-444d-dcf9-2a351cef1b51"
      },
      "execution_count": 15,
      "outputs": [
        {
          "output_type": "execute_result",
          "data": {
            "text/plain": [
              "{'Bird': 0, 'Flower': 1, 'Mammal': 2}"
            ]
          },
          "metadata": {},
          "execution_count": 15
        }
      ]
    },
    {
      "cell_type": "markdown",
      "source": [
        "**start**"
      ],
      "metadata": {
        "id": "Uzneygue8Guq"
      }
    },
    {
      "cell_type": "code",
      "source": [
        "early_stop_loss = EarlyStopping(monitor='loss', patience=3, verbose=1)\n",
        "early_stop_val_acc = EarlyStopping(monitor='val_accuracy', patience=3, verbose=1)\n",
        "model_callbacks=[early_stop_loss, early_stop_val_acc]"
      ],
      "metadata": {
        "id": "zCSvlTAI8xGE"
      },
      "execution_count": 16,
      "outputs": []
    },
    {
      "cell_type": "markdown",
      "source": [
        "**layers**"
      ],
      "metadata": {
        "id": "jRkodZ0y-aB0"
      }
    },
    {
      "cell_type": "code",
      "source": [
        "model = Sequential()"
      ],
      "metadata": {
        "id": "ZCLevwJI4nHQ"
      },
      "execution_count": 17,
      "outputs": []
    },
    {
      "cell_type": "code",
      "source": [
        "from keras.layers.convolutional.conv2d import Convolution2D\n",
        "model.add(Convolution2D(32,(3,3), activation=\"relu\", input_shape=(64,64,3)))\n"
      ],
      "metadata": {
        "id": "uhIztD3V4-P1"
      },
      "execution_count": 18,
      "outputs": []
    },
    {
      "cell_type": "code",
      "source": [
        "from keras.layers.pooling.max_pooling2d import MaxPooling2D\n",
        "model.add(MaxPooling2D(pool_size=(2,2)))"
      ],
      "metadata": {
        "id": "VPHBz4Tu7-_P"
      },
      "execution_count": 19,
      "outputs": []
    },
    {
      "cell_type": "code",
      "source": [
        "model.add(Flatten())"
      ],
      "metadata": {
        "id": "K7dhZfF68bFP"
      },
      "execution_count": 20,
      "outputs": []
    },
    {
      "cell_type": "code",
      "source": [
        "model.add(Dense(units=300,kernel_initializer=\"random_uniform\",activation=\"relu\"))"
      ],
      "metadata": {
        "id": "EeUIx3Y_8nyS"
      },
      "execution_count": 21,
      "outputs": []
    },
    {
      "cell_type": "code",
      "source": [
        "model.add(Dense(units=200,kernel_initializer=\"random_uniform\",activation=\"relu\"))"
      ],
      "metadata": {
        "id": "yPWG0QqG9QaX"
      },
      "execution_count": 22,
      "outputs": []
    },
    {
      "cell_type": "code",
      "source": [
        "model.add(Dense(units=3,kernel_initializer=\"random_uniform\",activation=\"softmax\"))"
      ],
      "metadata": {
        "id": "b0A5HaY59U74"
      },
      "execution_count": 23,
      "outputs": []
    },
    {
      "cell_type": "markdown",
      "source": [
        "**model**"
      ],
      "metadata": {
        "id": "WQgkve_T952P"
      }
    },
    {
      "cell_type": "code",
      "source": [
        "from keras.metrics.base_metric import Metric\n",
        "model.compile(loss=\"categorical_crossentropy\", optimizer=\"adam\", metrics=['accuracy'])"
      ],
      "metadata": {
        "id": "gITDd26p95Au"
      },
      "execution_count": 24,
      "outputs": []
    },
    {
      "cell_type": "code",
      "source": [
        "#train model\n",
        "model.fit_generator(X_train, steps_per_epoch=5, epochs=25, validation_data= X_test, validation_steps=5)"
      ],
      "metadata": {
        "id": "I4STfk2w9yW7",
        "colab": {
          "base_uri": "https://localhost:8080/"
        },
        "outputId": "bc425eda-cd72-435b-d207-073e3bffce33"
      },
      "execution_count": 25,
      "outputs": [
        {
          "output_type": "stream",
          "name": "stderr",
          "text": [
            "/usr/local/lib/python3.7/dist-packages/ipykernel_launcher.py:2: UserWarning: `Model.fit_generator` is deprecated and will be removed in a future version. Please use `Model.fit`, which supports generators.\n",
            "  \n"
          ]
        },
        {
          "output_type": "stream",
          "name": "stdout",
          "text": [
            "Epoch 1/25\n",
            "5/5 [==============================] - 3s 362ms/step - loss: 1.2244 - accuracy: 0.3913 - val_loss: 1.2555 - val_accuracy: 0.3043\n",
            "Epoch 2/25\n",
            "5/5 [==============================] - 2s 339ms/step - loss: 1.1719 - accuracy: 0.3478 - val_loss: 1.1238 - val_accuracy: 0.3551\n",
            "Epoch 3/25\n",
            "5/5 [==============================] - 2s 539ms/step - loss: 1.0416 - accuracy: 0.4420 - val_loss: 0.9657 - val_accuracy: 0.5797\n",
            "Epoch 4/25\n",
            "5/5 [==============================] - 2s 272ms/step - loss: 0.9611 - accuracy: 0.5435 - val_loss: 0.8784 - val_accuracy: 0.5435\n",
            "Epoch 5/25\n",
            "5/5 [==============================] - 1s 276ms/step - loss: 0.8498 - accuracy: 0.6087 - val_loss: 0.8520 - val_accuracy: 0.6014\n",
            "Epoch 6/25\n",
            "5/5 [==============================] - 1s 288ms/step - loss: 0.7658 - accuracy: 0.6739 - val_loss: 0.6528 - val_accuracy: 0.7029\n",
            "Epoch 7/25\n",
            "5/5 [==============================] - 1s 275ms/step - loss: 0.7372 - accuracy: 0.6159 - val_loss: 0.6821 - val_accuracy: 0.6522\n",
            "Epoch 8/25\n",
            "5/5 [==============================] - 1s 276ms/step - loss: 0.7490 - accuracy: 0.6377 - val_loss: 1.0456 - val_accuracy: 0.5580\n",
            "Epoch 9/25\n",
            "5/5 [==============================] - 1s 296ms/step - loss: 0.6519 - accuracy: 0.6957 - val_loss: 0.6092 - val_accuracy: 0.7391\n",
            "Epoch 10/25\n",
            "5/5 [==============================] - 1s 312ms/step - loss: 0.7232 - accuracy: 0.6884 - val_loss: 0.7983 - val_accuracy: 0.6449\n",
            "Epoch 11/25\n",
            "5/5 [==============================] - 1s 272ms/step - loss: 0.6356 - accuracy: 0.6957 - val_loss: 0.6132 - val_accuracy: 0.6957\n",
            "Epoch 12/25\n",
            "5/5 [==============================] - 1s 288ms/step - loss: 0.6016 - accuracy: 0.6957 - val_loss: 0.5915 - val_accuracy: 0.7174\n",
            "Epoch 13/25\n",
            "5/5 [==============================] - 1s 268ms/step - loss: 0.5955 - accuracy: 0.7246 - val_loss: 0.5923 - val_accuracy: 0.7391\n",
            "Epoch 14/25\n",
            "5/5 [==============================] - 1s 271ms/step - loss: 0.5475 - accuracy: 0.7536 - val_loss: 0.7044 - val_accuracy: 0.6812\n",
            "Epoch 15/25\n",
            "5/5 [==============================] - 1s 283ms/step - loss: 0.5382 - accuracy: 0.7536 - val_loss: 0.5343 - val_accuracy: 0.7609\n",
            "Epoch 16/25\n",
            "5/5 [==============================] - 1s 274ms/step - loss: 0.5148 - accuracy: 0.7681 - val_loss: 0.8563 - val_accuracy: 0.6594\n",
            "Epoch 17/25\n",
            "5/5 [==============================] - 1s 278ms/step - loss: 0.5153 - accuracy: 0.7754 - val_loss: 0.4431 - val_accuracy: 0.7754\n",
            "Epoch 18/25\n",
            "5/5 [==============================] - 1s 278ms/step - loss: 0.4887 - accuracy: 0.7754 - val_loss: 0.8345 - val_accuracy: 0.6449\n",
            "Epoch 19/25\n",
            "5/5 [==============================] - 1s 286ms/step - loss: 0.5357 - accuracy: 0.7536 - val_loss: 0.4131 - val_accuracy: 0.8261\n",
            "Epoch 20/25\n",
            "5/5 [==============================] - 1s 272ms/step - loss: 0.5285 - accuracy: 0.7319 - val_loss: 0.5251 - val_accuracy: 0.7609\n",
            "Epoch 21/25\n",
            "5/5 [==============================] - 1s 301ms/step - loss: 0.5212 - accuracy: 0.7899 - val_loss: 0.4297 - val_accuracy: 0.8043\n",
            "Epoch 22/25\n",
            "5/5 [==============================] - 1s 265ms/step - loss: 0.4271 - accuracy: 0.8188 - val_loss: 0.7352 - val_accuracy: 0.6739\n",
            "Epoch 23/25\n",
            "5/5 [==============================] - 1s 274ms/step - loss: 0.4585 - accuracy: 0.7754 - val_loss: 0.3682 - val_accuracy: 0.8188\n",
            "Epoch 24/25\n",
            "5/5 [==============================] - 1s 271ms/step - loss: 0.4184 - accuracy: 0.8261 - val_loss: 0.6083 - val_accuracy: 0.7609\n",
            "Epoch 25/25\n",
            "5/5 [==============================] - 1s 280ms/step - loss: 0.3513 - accuracy: 0.8406 - val_loss: 0.3235 - val_accuracy: 0.8478\n"
          ]
        },
        {
          "output_type": "execute_result",
          "data": {
            "text/plain": [
              "<keras.callbacks.History at 0x7f0c26c4cf10>"
            ]
          },
          "metadata": {},
          "execution_count": 25
        }
      ]
    },
    {
      "cell_type": "code",
      "source": [
        "model.save(\"Digital Naturalist Dataset.h5\")"
      ],
      "metadata": {
        "id": "50lGBDWsV9iP"
      },
      "execution_count": 26,
      "outputs": []
    },
    {
      "cell_type": "markdown",
      "source": [],
      "metadata": {
        "id": "wEc1vTYVZj_H"
      }
    },
    {
      "cell_type": "code",
      "source": [
        "from tensorflow.keras.models import load_model\n",
        "from tensorflow.keras.preprocessing import image"
      ],
      "metadata": {
        "id": "51gi1abeX8z4"
      },
      "execution_count": 27,
      "outputs": []
    },
    {
      "cell_type": "code",
      "source": [
        "model =load_model(\"Digital Naturalist Dataset.h5\")"
      ],
      "metadata": {
        "id": "-bRgF2UFXqsG"
      },
      "execution_count": 28,
      "outputs": []
    },
    {
      "cell_type": "code",
      "source": [
        "img = image.load_img(\"/content/Digital Naturalist Dataset/Flower/Corpse Flower/download (1).jpg\",target_size=(64,64))"
      ],
      "metadata": {
        "id": "cmAH0QnsYcZ8"
      },
      "execution_count": 29,
      "outputs": []
    },
    {
      "cell_type": "code",
      "source": [
        "img"
      ],
      "metadata": {
        "colab": {
          "base_uri": "https://localhost:8080/",
          "height": 81
        },
        "id": "XnAkCsO9Zqk7",
        "outputId": "f0a288cd-6124-47a9-ff07-01eb0250968b"
      },
      "execution_count": 30,
      "outputs": [
        {
          "output_type": "execute_result",
          "data": {
            "text/plain": [
              "<PIL.Image.Image image mode=RGB size=64x64 at 0x7F0C239F3D50>"
            ],
            "image/png": "[encoded data removed]"
          },
          "metadata": {},
          "execution_count": 30
        }
      ]
    },
    {
      "cell_type": "code",
      "source": [
        "type(img)"
      ],
      "metadata": {
        "colab": {
          "base_uri": "https://localhost:8080/"
        },
        "id": "pWm3g0y7Z3Qi",
        "outputId": "96851eab-e2b6-4426-9c75-0dda2389d613"
      },
      "execution_count": 31,
      "outputs": [
        {
          "output_type": "execute_result",
          "data": {
            "text/plain": [
              "PIL.Image.Image"
            ]
          },
          "metadata": {},
          "execution_count": 31
        }
      ]
    },
    {
      "cell_type": "code",
      "source": [
        "X = image.img_to_array(img)"
      ],
      "metadata": {
        "id": "1aSGM9lqZ7x_"
      },
      "execution_count": 32,
      "outputs": []
    },
    {
      "cell_type": "code",
      "source": [
        "X"
      ],
      "metadata": {
        "colab": {
          "base_uri": "https://localhost:8080/"
        },
        "id": "FrTECvi8aF3c",
        "outputId": "88cc53da-c128-4bb0-8a8e-0120188a8120"
      },
      "execution_count": 33,
      "outputs": [
        {
          "output_type": "execute_result",
          "data": {
            "text/plain": [
              "array([[[159., 157., 207.],\n",
              "        [185., 187., 236.],\n",
              "        [146., 151., 193.],\n",
              "        ...,\n",
              "        [ 34.,  44.,  45.],\n",
              "        [100., 105., 125.],\n",
              "        [102., 106., 131.]],\n",
              "\n",
              "       [[185., 174., 216.],\n",
              "        [170., 163., 204.],\n",
              "        [113., 109., 146.],\n",
              "        ...,\n",
              "        [ 52.,  60.,  71.],\n",
              "        [ 11.,  26.,  19.],\n",
              "        [ 39.,  53.,  54.]],\n",
              "\n",
              "       [[170., 158., 194.],\n",
              "        [157., 149., 186.],\n",
              "        [123., 117., 153.],\n",
              "        ...,\n",
              "        [ 53.,  65.,  51.],\n",
              "        [ 86.,  96., 105.],\n",
              "        [ 79.,  88., 103.]],\n",
              "\n",
              "       ...,\n",
              "\n",
              "       [[ 54.,  81.,  66.],\n",
              "        [ 28.,  54.,  41.],\n",
              "        [ 63.,  89.,  76.],\n",
              "        ...,\n",
              "        [ 11.,  14.,  21.],\n",
              "        [  2.,   2.,  10.],\n",
              "        [  5.,   5.,  13.]],\n",
              "\n",
              "       [[ 50.,  77.,  60.],\n",
              "        [ 38.,  64.,  51.],\n",
              "        [ 32.,  58.,  47.],\n",
              "        ...,\n",
              "        [  1.,   4.,  11.],\n",
              "        [  8.,   9.,  11.],\n",
              "        [  6.,   7.,   9.]],\n",
              "\n",
              "       [[ 38.,  60.,  47.],\n",
              "        [  7.,  30.,  14.],\n",
              "        [  3.,  24.,   5.],\n",
              "        ...,\n",
              "        [ 12.,  15.,  22.],\n",
              "        [  7.,   8.,  12.],\n",
              "        [  8.,   9.,  13.]]], dtype=float32)"
            ]
          },
          "metadata": {},
          "execution_count": 33
        }
      ]
    },
    {
      "cell_type": "code",
      "source": [
        "X.shape"
      ],
      "metadata": {
        "colab": {
          "base_uri": "https://localhost:8080/"
        },
        "id": "-0L17-UkaK3a",
        "outputId": "28f6e9c3-e021-4b40-d4fa-a9c317c026c3"
      },
      "execution_count": 34,
      "outputs": [
        {
          "output_type": "execute_result",
          "data": {
            "text/plain": [
              "(64, 64, 3)"
            ]
          },
          "metadata": {},
          "execution_count": 34
        }
      ]
    },
    {
      "cell_type": "code",
      "source": [
        "import numpy as np"
      ],
      "metadata": {
        "id": "8ttJrV81aoD5"
      },
      "execution_count": 35,
      "outputs": []
    },
    {
      "cell_type": "code",
      "source": [
        "#convolution expects\n",
        "X = np.expand_dims(X,axis=0)"
      ],
      "metadata": {
        "id": "YtLPcdbqaNoR"
      },
      "execution_count": 37,
      "outputs": []
    },
    {
      "cell_type": "code",
      "source": [
        "X.shape"
      ],
      "metadata": {
        "colab": {
          "base_uri": "https://localhost:8080/"
        },
        "id": "MpSDhNaOa7x4",
        "outputId": "61c4641e-9072-4b0c-ef41-34be0dec8266"
      },
      "execution_count": 38,
      "outputs": [
        {
          "output_type": "execute_result",
          "data": {
            "text/plain": [
              "(1, 64, 64, 3)"
            ]
          },
          "metadata": {},
          "execution_count": 38
        }
      ]
    },
    {
      "cell_type": "code",
      "source": [
        "pred_prob = model.predict(X)"
      ],
      "metadata": {
        "colab": {
          "base_uri": "https://localhost:8080/"
        },
        "id": "X6vTdrxObAcU",
        "outputId": "795df093-3a0b-4e34-dbe9-5430e9b7de47"
      },
      "execution_count": 39,
      "outputs": [
        {
          "output_type": "stream",
          "name": "stdout",
          "text": [
            "1/1 [==============================] - 0s 118ms/step\n"
          ]
        }
      ]
    },
    {
      "cell_type": "code",
      "source": [
        "pred_prob"
      ],
      "metadata": {
        "colab": {
          "base_uri": "https://localhost:8080/"
        },
        "id": "sIgCqJs8bMhG",
        "outputId": "25030788-f615-46c5-defa-7d0df90f54df"
      },
      "execution_count": 40,
      "outputs": [
        {
          "output_type": "execute_result",
          "data": {
            "text/plain": [
              "array([[0., 1., 0.]], dtype=float32)"
            ]
          },
          "metadata": {},
          "execution_count": 40
        }
      ]
    },
    {
      "cell_type": "code",
      "source": [
        "class_name=[\"Bird\",\"Flower\",\"Mammal\"]\n",
        "pred_id = pred_prob.argmax(axis=1)[0]"
      ],
      "metadata": {
        "id": "3bNMGReObb4Q"
      },
      "execution_count": 45,
      "outputs": []
    },
    {
      "cell_type": "code",
      "source": [
        "pred_id"
      ],
      "metadata": {
        "colab": {
          "base_uri": "https://localhost:8080/"
        },
        "id": "FBnRJvRhcHWB",
        "outputId": "57da1cfd-e12a-4c9e-b42f-8ded279e9551"
      },
      "execution_count": 46,
      "outputs": [
        {
          "output_type": "execute_result",
          "data": {
            "text/plain": [
              "1"
            ]
          },
          "metadata": {},
          "execution_count": 46
        }
      ]
    },
    {
      "cell_type": "code",
      "source": [
        "print(\"the predicted dataset is\",str(class_name[pred_id]))"
      ],
      "metadata": {
        "colab": {
          "base_uri": "https://localhost:8080/"
        },
        "id": "EqvO3TR8cPsn",
        "outputId": "24d0264e-9289-48ed-9e4b-63935c93d9df"
      },
      "execution_count": 47,
      "outputs": [
        {
          "output_type": "stream",
          "name": "stdout",
          "text": [
            "the predicted dataset is Flower\n"
          ]
        }
      ]
    },
    {
      "cell_type": "code",
      "source": [],
      "metadata": {
        "id": "IPjy87PGdnj1"
      },
      "execution_count": null,
      "outputs": []
    }
  ]
}