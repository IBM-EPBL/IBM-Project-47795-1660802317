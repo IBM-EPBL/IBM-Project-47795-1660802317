{
  "nbformat": 4,
  "nbformat_minor": 0,
  "metadata": {
    "colab": {
      "provenance": []
    },
    "kernelspec": {
      "name": "python3",
      "display_name": "Python 3"
    },
    "language_info": {
      "name": "python"
    }
  },
  "cells": [
    {
      "cell_type": "markdown",
      "source": [
        "**Evaluation (Accuracy And Losses)**"
      ],
      "metadata": {
        "id": "sbkbhlAMISNc"
      }
    },
    {
      "cell_type": "code",
      "execution_count": null,
      "metadata": {
        "id": "3ZAeHmg-II9U"
      },
      "outputs": [],
      "source": [
        "print(h.history.keys()) \n",
        "histories_acc.append(h.history['acc']) \n",
        "histories_val_acc.append(h.history['val_acc']) \n",
        "histories_loss.append(h.history['loss']) \n",
        "histories_val_loss.append(h.history['val_loss']) \n",
        "\n",
        "histories_acc=np.array(histories_acc) \n",
        "histories_val_acc=np.array(histories_val_acc) \n",
        "histories_loss=np.array(histories_loss) \n",
        "histories_val_loss=np.array(histories_val_loss) \n",
        "\n",
        "print('histories_acc',histories_acc,'histories_loss',histories_loss,'histories_val_acc',histories_val_acc,'histories_val_loss',histories_val_loss) \n",
        "\n",
        "predictions=model.predict_proba([X_test[image_number].reshape(1,224,224,3)]) \n",
        "\n",
        "for idx,result,x in zip(range(0,6),found,predictions[0]):\n",
        "   print(\"Label:{},Type:{},Species:{},Score:{}%\".format(idx,result[0],result[1],round(x*100,3))) \n",
        "\n",
        "ClassIndex=model.predict_classes([X_test[image_number].reshape(1,224,224,3)]) \n",
        "\n",
        "ClassIndex \n",
        "print(found[ClassIndex[0]]) \n",
        "\n",
        "image_number=np.random.randint(0,len(X_test)) \n",
        "print(image_number) \n",
        "\n",
        "plt.figure(figsize=(8,8)) \n",
        "plt.imshow(X_test[image_number])"
      ]
    },
    {
      "cell_type": "markdown",
      "source": [
        "**Model Saving and Lading**"
      ],
      "metadata": {
        "id": "bsVA3BABMLNA"
      }
    },
    {
      "cell_type": "code",
      "source": [
        "model_json = model.to_json()\n",
        "with open(\"final_model.json\",\"w\") as json_file:\n",
        "  json_file.write(model_json)\n",
        "mpdel.save_weights(\"final_model.h5\")\n",
        "print(\"saved model to disk\")"
      ],
      "metadata": {
        "id": "BysEq3iIIUqh"
      },
      "execution_count": null,
      "outputs": []
    }
  ]
}